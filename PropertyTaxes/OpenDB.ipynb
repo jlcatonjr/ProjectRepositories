{
 "cells": [
  {
   "cell_type": "code",
   "execution_count": 1,
   "metadata": {},
   "outputs": [
    {
     "data": {
      "text/plain": [
       "['__IMPORTANT',\n",
       " 'INFORMATION',\n",
       " 'FOR',\n",
       " 'DATA',\n",
       " 'USERS',\n",
       " 'OUTSIDE',\n",
       " 'CENSUS',\n",
       " 'BUREAU',\n",
       " '__JLC_NOTE:',\n",
       " 'When',\n",
       " 'updating',\n",
       " 'pops,',\n",
       " 'incl',\n",
       " 'DC',\n",
       " 'Exhibit',\n",
       " 'ID',\n",
       " '(09-6)',\n",
       " '_Sources',\n",
       " 'of',\n",
       " 'Related',\n",
       " 'Historical',\n",
       " 'Data',\n",
       " '_Tips',\n",
       " 'On',\n",
       " 'Using',\n",
       " 'the',\n",
       " 'Quick',\n",
       " 'Queries',\n",
       " '0_Read',\n",
       " 'Me_',\n",
       " '1_Revenues',\n",
       " '2_ExpendituresA',\n",
       " '3_ExpendituresB',\n",
       " '4_Debt_and_Cash_&_Securities',\n",
       " '5_Limited_Data_for_1942-1950_Obsolete',\n",
       " 'Reference']"
      ]
     },
     "execution_count": 1,
     "metadata": {},
     "output_type": "execute_result"
    }
   ],
   "source": [
    "import pandas_access as mdb\n",
    "\n",
    "# Path to your .mdb file\n",
    "mdb_file_path = 'StateGovFinances/State_Govt_Finances.mdb'\n",
    "table_names = mdb.list_tables(mdb_file_path)\n",
    "\n",
    "table_names"
   ]
  },
  {
   "cell_type": "code",
   "execution_count": 2,
   "metadata": {},
   "outputs": [],
   "source": [
    "# Specify the table name you want to read\n",
    "table_name = '1_Revenues'\n",
    "\n",
    "# Read the table into a pandas DataFrame\n",
    "df = mdb.read_table(mdb_file_path, table_name)\n",
    "# Display the DataFrame\n",
    "df[\"Year4\"] = df[\"Year4\"].astype(int)\n",
    "df = df.set_index([\"State Code\", \"Year4\"]).sort_index()             \n",
    "df.to_csv(\"StateGovFinancesTo2008.csv\")"
   ]
  },
  {
   "cell_type": "code",
   "execution_count": 5,
   "metadata": {},
   "outputs": [],
   "source": [
    "import requests\n",
    "import os\n",
    "def download_file(url, filename):\n",
    "    # Send a GET request to the URL\n",
    "    try:\n",
    "        response = requests.get(url, stream=True)\n",
    "        with open(filename, 'wb') as f:\n",
    "            f.write(response.content)\n",
    "    except:\n",
    "        print(f\"Failed to download file. Status code: {response.status_code}\")"
   ]
  },
  {
   "cell_type": "code",
   "execution_count": 6,
   "metadata": {},
   "outputs": [],
   "source": [
    "folder = \"StateFinancesByYear\"\n",
    "try:\n",
    "    os.mkdir(folder)\n",
    "except:\n",
    "    pass"
   ]
  },
  {
   "cell_type": "code",
   "execution_count": 7,
   "metadata": {},
   "outputs": [],
   "source": [
    "for year in range(1993,2022):\n",
    "    stryear = str(year)\n",
    "    filetype = \".xlsx\" if year > 2011 else \".xls\" \n",
    "    if year == 2017:\n",
    "        urls = [f\"https://www2.census.gov/programs-surveys/gov-finances/tables/{stryear}/summary-tables/{stryear[2:]}slsstab1.xlsx\"]\n",
    "    elif year > 2017:\n",
    "        urls = [f\"https://www2.census.gov/programs-surveys/gov-finances/tables/{stryear}/{stryear[2:]}slsstab1.xlsx\"]\n",
    "    elif year > 2011:\n",
    "        urls = [f\"https://www2.census.gov/programs-surveys/gov-finances/tables/{stryear}/summary-tables/{stryear[2:]}slsstab1a.xlsx\",\n",
    "                f\"https://www2.census.gov/programs-surveys/gov-finances/tables/{stryear}/summary-tables/{stryear[2:]}slsstab1b.xlsx\"]\n",
    "    elif year == 2002 or year > 2004:\n",
    "        urls = [f\"https://www2.census.gov/programs-surveys/gov-finances/tables/{stryear}/summary-tables/{stryear[2:]}slsstab1a.xls\",\n",
    "                f\"https://www2.census.gov/programs-surveys/gov-finances/tables/{stryear}/summary-tables/{stryear[2:]}slsstab1b.xls\"]\n",
    "    elif year in [2001, 2003, 2004]:\n",
    "        continue\n",
    "    elif year > 1999:\n",
    "        urls = [f\"https://www2.census.gov/programs-surveys/gov-finances/tables/{stryear}/summary-tables/{stryear[2:]}slss1.xls\",\n",
    "                f\"https://www2.census.gov/programs-surveys/gov-finances/tables/{stryear}/summary-tables/{stryear[2:]}slss2.xls\"]\n",
    "    elif year == 1997:\n",
    "        urls = [f\"https://www2.census.gov/programs-surveys/gov-finances/tables/{stryear}/summary-tables/{stryear[2:]}censusviewtabss.xls\"]\n",
    "    elif year > 1991 and year != 1997:\n",
    "        urls = [f\"https://www2.census.gov/programs-surveys/gov-finances/tables/{stryear}/summary-tables/{stryear[2:]}stlss1.xls\",\n",
    "                f\"https://www2.census.gov/programs-surveys/gov-finances/tables/{stryear}/summary-tables/{stryear[2:]}stlss2.xls\"]\n",
    "    for i, url in enumerate(urls):\n",
    "        letter = [\"a\",\"b\"][i]\n",
    "        download_file(url, f\"{folder}/StateGovFinances{stryear}{letter}{filetype}\")"
   ]
  },
  {
   "cell_type": "code",
   "execution_count": null,
   "metadata": {},
   "outputs": [],
   "source": []
  }
 ],
 "metadata": {
  "kernelspec": {
   "display_name": "Python 3 (ipykernel)",
   "language": "python",
   "name": "python3"
  },
  "language_info": {
   "codemirror_mode": {
    "name": "ipython",
    "version": 3
   },
   "file_extension": ".py",
   "mimetype": "text/x-python",
   "name": "python",
   "nbconvert_exporter": "python",
   "pygments_lexer": "ipython3",
   "version": "3.11.7"
  }
 },
 "nbformat": 4,
 "nbformat_minor": 4
}
