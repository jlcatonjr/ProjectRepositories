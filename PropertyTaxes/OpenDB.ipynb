{
 "cells": [
  {
   "cell_type": "code",
   "execution_count": 1,
   "metadata": {},
   "outputs": [
    {
     "data": {
      "text/plain": [
       "['__IMPORTANT',\n",
       " 'INFORMATION',\n",
       " 'FOR',\n",
       " 'DATA',\n",
       " 'USERS',\n",
       " 'OUTSIDE',\n",
       " 'CENSUS',\n",
       " 'BUREAU',\n",
       " '__JLC_NOTE:',\n",
       " 'When',\n",
       " 'updating',\n",
       " 'pops,',\n",
       " 'incl',\n",
       " 'DC',\n",
       " 'Exhibit',\n",
       " 'ID',\n",
       " '(09-6)',\n",
       " '_Sources',\n",
       " 'of',\n",
       " 'Related',\n",
       " 'Historical',\n",
       " 'Data',\n",
       " '_Tips',\n",
       " 'On',\n",
       " 'Using',\n",
       " 'the',\n",
       " 'Quick',\n",
       " 'Queries',\n",
       " '0_Read',\n",
       " 'Me_',\n",
       " '1_Revenues',\n",
       " '2_ExpendituresA',\n",
       " '3_ExpendituresB',\n",
       " '4_Debt_and_Cash_&_Securities',\n",
       " '5_Limited_Data_for_1942-1950_Obsolete',\n",
       " 'Reference']"
      ]
     },
     "execution_count": 1,
     "metadata": {},
     "output_type": "execute_result"
    }
   ],
   "source": [
    "import pandas_access as mdb\n",
    "\n",
    "# Path to your .mdb file\n",
    "mdb_file_path = 'StateGovFinances/State_Govt_Finances.mdb'\n",
    "table_names = mdb.list_tables(mdb_file_path)\n",
    "\n",
    "table_names"
   ]
  },
  {
   "cell_type": "code",
   "execution_count": 2,
   "metadata": {},
   "outputs": [],
   "source": [
    "# Specify the table name you want to read\n",
    "table_name = '1_Revenues'\n",
    "\n",
    "# Read the table into a pandas DataFrame\n",
    "df = mdb.read_table(mdb_file_path, table_name)\n",
    "# Display the DataFrame\n",
    "df[\"Year4\"] = df[\"Year4\"].astype(int)\n",
    "df = df.set_index([\"State Code\", \"Year4\"]).sort_index()             \n",
    "df.to_csv(\"StateGovFinancesTo2008.csv\")"
   ]
  },
  {
   "cell_type": "code",
   "execution_count": 1,
   "metadata": {},
   "outputs": [],
   "source": [
    "import requests\n",
    "\n",
    "def download_file(url, filename):\n",
    "    # Send a GET request to the URL\n",
    "    response = requests.get(url, stream=True)\n",
    "    \n",
    "    # Check if the request was successful\n",
    "    if response.status_code == 200:\n",
    "        # Open a local file with write-binary mode\n",
    "        with open(filename, 'wb') as file:\n",
    "            # Iterate over the response in chunks\n",
    "            for chunk in response.iter_content(chunk_size=8192):\n",
    "                if chunk:\n",
    "                    file.write(chunk)\n",
    "        print(f\"File downloaded successfully and saved as {filename}\")\n",
    "    else:\n",
    "        print(f\"Failed to download file. Status code: {response.status_code}\")"
   ]
  },
  {
   "cell_type": "code",
   "execution_count": 3,
   "metadata": {},
   "outputs": [
    {
     "name": "stdout",
     "output_type": "stream",
     "text": [
      "File downloaded successfully and saved as StateGovFinances2005a.xls\n",
      "File downloaded successfully and saved as StateGovFinances2006a.xls\n",
      "File downloaded successfully and saved as StateGovFinances2007a.xls\n",
      "File downloaded successfully and saved as StateGovFinances2008a.xls\n",
      "File downloaded successfully and saved as StateGovFinances2009a.xls\n",
      "File downloaded successfully and saved as StateGovFinances2010a.xls\n",
      "File downloaded successfully and saved as StateGovFinances2011a.xls\n",
      "File downloaded successfully and saved as StateGovFinances2012a.xlsx\n",
      "File downloaded successfully and saved as StateGovFinances2013a.xlsx\n",
      "File downloaded successfully and saved as StateGovFinances2014a.xlsx\n",
      "File downloaded successfully and saved as StateGovFinances2015a.xlsx\n",
      "File downloaded successfully and saved as StateGovFinances2016a.xlsx\n",
      "File downloaded successfully and saved as StateGovFinances2005b.xls\n",
      "File downloaded successfully and saved as StateGovFinances2006b.xls\n",
      "File downloaded successfully and saved as StateGovFinances2007b.xls\n",
      "File downloaded successfully and saved as StateGovFinances2008b.xls\n",
      "File downloaded successfully and saved as StateGovFinances2009b.xls\n",
      "File downloaded successfully and saved as StateGovFinances2010b.xls\n",
      "File downloaded successfully and saved as StateGovFinances2011b.xls\n",
      "File downloaded successfully and saved as StateGovFinances2012b.xlsx\n",
      "File downloaded successfully and saved as StateGovFinances2013b.xlsx\n",
      "File downloaded successfully and saved as StateGovFinances2014b.xlsx\n",
      "File downloaded successfully and saved as StateGovFinances2015b.xlsx\n",
      "File downloaded successfully and saved as StateGovFinances2016b.xlsx\n",
      "File downloaded successfully and saved as StateGovFinances2017.xlsx\n",
      "File downloaded successfully and saved as StateGovFinances2018.xls\n",
      "File downloaded successfully and saved as StateGovFinances2019.xls\n",
      "File downloaded successfully and saved as StateGovFinances2020.xls\n",
      "File downloaded successfully and saved as StateGovFinances2021.xls\n"
     ]
    }
   ],
   "source": [
    "for year in range(2005,2017):\n",
    "    stryear = str(year)\n",
    "    filetype = \".xlsx\"   \n",
    "    if year > 2011:\n",
    "        url = f\"https://www2.census.gov/programs-surveys/gov-finances/tables/{stryear}/summary-tables/{stryear[2:]}slsstab1a.xlsx\"\n",
    "    elif year > 2004:\n",
    "        url = f\"https://www2.census.gov/programs-surveys/gov-finances/tables/{stryear}/summary-tables/{stryear[2:]}slsstab1a.xls\"\n",
    "        filetype = filetype[:-1]\n",
    "    download_file(url, f\"StateGovFinances{stryear}a{filetype}\")\n",
    "\n",
    "for year in range(2005,2017):\n",
    "    stryear = str(year)\n",
    "    filetype = \".xlsx\"   \n",
    "    if year > 2011:\n",
    "        url = f\"https://www2.census.gov/programs-surveys/gov-finances/tables/{stryear}/summary-tables/{stryear[2:]}slsstab1b.xlsx\"\n",
    "    elif year > 2004:\n",
    "        url = f\"https://www2.census.gov/programs-surveys/gov-finances/tables/{stryear}/summary-tables/{stryear[2:]}slsstab1b.xls\"\n",
    "        filetype = filetype[:-1]\n",
    "    download_file(url, f\"StateGovFinances{stryear}b{filetype}\")\n",
    "\n",
    "for year in range(2017,2022):\n",
    "    stryear = str(year)\n",
    "    filetype = \".xlsx\"   \n",
    "    if year == 2017:\n",
    "        url = f\"https://www2.census.gov/programs-surveys/gov-finances/tables/{stryear}/summary-tables/{stryear[2:]}slsstab1.xlsx\"\n",
    "    elif year > 2017:\n",
    "        url = f\"https://www2.census.gov/programs-surveys/gov-finances/tables/{stryear}/{stryear[2:]}slsstab1.xlsx\"\n",
    "        filetype = filetype[:-1]\n",
    "    download_file(url, f\"StateGovFinances{stryear}{filetype}\")"
   ]
  },
  {
   "cell_type": "code",
   "execution_count": null,
   "metadata": {},
   "outputs": [],
   "source": []
  }
 ],
 "metadata": {
  "kernelspec": {
   "display_name": "Python 3 (ipykernel)",
   "language": "python",
   "name": "python3"
  },
  "language_info": {
   "codemirror_mode": {
    "name": "ipython",
    "version": 3
   },
   "file_extension": ".py",
   "mimetype": "text/x-python",
   "name": "python",
   "nbconvert_exporter": "python",
   "pygments_lexer": "ipython3",
   "version": "3.12.2"
  }
 },
 "nbformat": 4,
 "nbformat_minor": 4
}
