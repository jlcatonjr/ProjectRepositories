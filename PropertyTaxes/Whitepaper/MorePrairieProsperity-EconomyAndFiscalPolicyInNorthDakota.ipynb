{
 "cells": [
  {
   "cell_type": "markdown",
   "metadata": {},
   "source": [
    "# More Prairie Prosperity: Economy and Fiscal Policy in North Dakota\n",
    "\n",
    "### James Caton and Richard Feir \n",
    "\n",
    "In the recent years, we have seen oil productivity and state revenues tied to thsi productivity stabilize in North Dakota. "
   ]
  },
  {
   "cell_type": "markdown",
   "metadata": {},
   "source": [
    "<iframe src=\"LinePlotsStateFinancesAsPercentRevenuePercentGDPAndPerCapitaFigsState & local government amount.html\" width=\"100%\" height=\"1000px\"></iframe>\n",
    "\n",
    "# Good News!\n",
    "\n",
    "## Great News!!\n",
    "\n",
    "### Conveniently, we can bulid our entire analysis in a Jupyter notebook and save it as an html file. As long as the files imported by iframe are in the appropriate folder, the reader can access the dyanmic visualization as they are reading. This is a cool feature that should help us to make the writing process go smoothly.\n",
    "\n",
    "$$X_1 + X_2^2$$\n",
    "\n",
    "<div>\n",
    "<iframe src=\"ScatterPlotsIncomePropertyAssessmentSalesFuelTaxesPctTotalRevenueState & local government amountPercent of GDP.html\" width=\"100%\" height=\"1000px\"></iframe>\n",
    "\n",
    "\n",
    "# And you can add images\n",
    "\n",
    "But you might squash the application, so be careful with height and width parameters.\n",
    "\n",
    "<!-- <title>Image in Frame</title>\n",
    "<style>\n",
    ".image-frame {\n",
    "width: 300px;\n",
    "height: 300px;\n",
    "border: 2px solid black;\n",
    "padding: 10px;\n",
    "display: flex;\n",
    "justify-content: center;\n",
    "align-items: center;\n",
    "}\n",
    " -->\n",
    "\n",
    "</style>\n",
    "<div class=\"image-frame\">\n",
    "<img src=\"ExampleScatter.png\" height=\"500px\" alt=\"Description of Image\">\n",
    "</div>\n"
   ]
  },
  {
   "cell_type": "code",
   "execution_count": null,
   "metadata": {},
   "outputs": [],
   "source": []
  }
 ],
 "metadata": {
  "language_info": {
   "name": "python"
  }
 },
 "nbformat": 4,
 "nbformat_minor": 2
}
