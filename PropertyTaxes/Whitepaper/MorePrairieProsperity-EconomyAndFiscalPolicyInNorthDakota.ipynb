{
 "cells": [
  {
   "cell_type": "markdown",
   "metadata": {},
   "source": [
    "# More Prairie Prosperity: Economy and Fiscal Policy in North Dakota\n",
    "\n",
    "### James Caton and Richard Feir \n",
    "\n",
    "With regard to economic health, productivity is fundamental. There are a variety of macroeconomic measures that indicate economic health. We focus on GDP per capita, personal income per capita, and the rate of unemployment. On all fronts, North Dakota performs better than most of the nation as well as the Upper Midwest.\n",
    "\n",
    "\n",
    "\n",
    "North Dakota is one of the only states in the nation that typically run a surplus, meaning that revenues exceed expenditures, and is also one of the few states that have accumulated savings in excess of 1 year of expenditures. In the past several years, we have seen oil productivity and state revenues tied to this productivity stabilize in North Dakota. This stability indicates that the apparent state of fiscal policy in North Dakota is not transitory. The current status quo is, therefore, an appropriate interpretive anchor. \n",
    "\n",
    "Economic performance is a function of institutional factors that can either facilitate or encumber economic activity. As with productivity, North Dakota leads the region and nation in economic productivity. Per capita peronsal incomes are the highest in the region ($70,260) Wages and salaries per capita are higher in North Dakota than in all states in the region except for Minnesota.\n",
    "\n",
    "In the current election year, voters in North Dakota will be considering the removal of property taxes. Property taxes are a significant portion of revenue in North Dakota. Since property taxes are a source of local revenue, we will need to consider the aggregate values of revenue and expenditures at the state and local levels."
   ]
  },
  {
   "cell_type": "markdown",
   "metadata": {},
   "source": [
    "<iframe src=\"LinePlotsStateFinancesAsPercentRevenuePercentGDPAndPerCapitaFigsState & local government amount.html\" width=\"100%\" height=\"1000px\"></iframe>\n",
    "\n",
    "# Good News!\n",
    "\n",
    "## Great News!!\n",
    "\n",
    "### Conveniently, we can bulid our entire analysis in a Jupyter notebook and save it as an html file. As long as the files imported by iframe are in the appropriate folder, the reader can access the dyanmic visualization as they are reading. This is a cool feature that should help us to make the writing process go smoothly.\n",
    "\n",
    "$$X_1 + X_2^2$$\n",
    "\n",
    "<div>\n",
    "<iframe src=\"ScatterPlotsIncomePropertyAssessmentSalesFuelTaxesPctTotalRevenueState & local government amountPercent of GDP.html\" width=\"100%\" height=\"1000px\"></iframe>\n",
    "\n",
    "\n",
    "# And you can add images\n",
    "\n",
    "But you might squash the application, so be careful with height and width parameters.\n",
    "\n",
    "<!-- <title>Image in Frame</title>\n",
    "<style>\n",
    ".image-frame {\n",
    "width: 300px;\n",
    "height: 300px;\n",
    "border: 2px solid black;\n",
    "padding: 10px;\n",
    "display: flex;\n",
    "justify-content: center;\n",
    "align-items: center;\n",
    "}\n",
    " -->\n",
    "\n",
    "</style>\n",
    "<div class=\"image-frame\">\n",
    "<img src=\"ExampleScatter.png\" height=\"500px\" alt=\"Description of Image\">\n",
    "</div>\n"
   ]
  },
  {
   "cell_type": "code",
   "execution_count": null,
   "metadata": {},
   "outputs": [],
   "source": []
  }
 ],
 "metadata": {
  "language_info": {
   "name": "python"
  }
 },
 "nbformat": 4,
 "nbformat_minor": 2
}
