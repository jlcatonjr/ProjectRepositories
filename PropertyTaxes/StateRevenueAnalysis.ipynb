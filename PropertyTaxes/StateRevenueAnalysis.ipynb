{
 "cells": [
  {
   "cell_type": "code",
   "execution_count": null,
   "metadata": {},
   "outputs": [],
   "source": [
    "import pandas as pd\n",
    "import matplotlib.pyplot as plt\n",
    "stack_dfs = pd.read_csv(\"StateGovFinances2009to2021.csv\", index_col = [\"State\", \"Year\", \"Format\"]).sort_index()\n",
    "panel_dfs_dict = {k:stack_dfs[stack_dfs.index.get_level_values(2)==k].reset_index().set_index([\"State\",\"Year\"]).sort_index() for k in stack_dfs.index.get_level_values(2).unique()}\n"
   ]
  },
  {
   "cell_type": "code",
   "execution_count": null,
   "metadata": {},
   "outputs": [],
   "source": [
    "plot_df = panel_dfs_dict['State & local government amount'][[\"1GENERAL REVENUE\",\"1EXPENDITURE\", '1INDIVIDUAL INCOME', '1CORPORATE INCOME', \"1PROPERTY\", \"1SPECIAL ASSESSMENTS\"]]\n",
    "plot_df.rename(columns = {k:k.replace(\"1\", \"\").title() for k in plot_df.keys()}, inplace = True)\n",
    "plot_df[\"Total Income\"] = plot_df[\"Individual Income\"].add(plot_df[\"Corporate Income\"])\n"
   ]
  },
  {
   "cell_type": "code",
   "execution_count": null,
   "metadata": {},
   "outputs": [],
   "source": [
    "pct_df = plot_df.apply(lambda x: x.div(plot_df[\"General Revenue\"]))"
   ]
  },
  {
   "cell_type": "code",
   "execution_count": null,
   "metadata": {},
   "outputs": [],
   "source": [
    "states = pct_df.index.get_level_values(\"State\").unique()\n",
    "color_map = {value: idx for idx, value in enumerate(states)}\n",
    "pct_df['state'] = pct_df.index.get_level_values('State').map(color_map)\n",
    "ax = pct_df.plot.scatter(x = \"Property\", y = \"Individual Income\", c = \"state\", colorbar = False, cmap = \"viridis\", figsize = (20,10))\n",
    "# # Create a colorbar with the correct labels\n",
    "cbar = plt.colorbar(ax.collections[0], ticks=range(len(states)))\n",
    "cbar.ax.set_yticklabels(states)\n",
    "plt.show()"
   ]
  },
  {
   "cell_type": "code",
   "execution_count": null,
   "metadata": {},
   "outputs": [],
   "source": [
    "corr_df = pct_df.groupby(\"State\")[[\"Property\", \"Total Income\"]].corr()[\"Property\"]\n",
    "corr_df[corr_df.index.get_level_values(1)==\"Total Income\"].mean()"
   ]
  },
  {
   "cell_type": "code",
   "execution_count": null,
   "metadata": {},
   "outputs": [],
   "source": [
    "import plotly.express as px\n",
    "import plotly.graph_objects as go\n",
    "import plotly.io as pio"
   ]
  },
  {
   "cell_type": "code",
   "execution_count": null,
   "metadata": {},
   "outputs": [],
   "source": [
    "import plotly.graph_objects as go\n",
    "from plotly.subplots import make_subplots\n",
    "from homebrewedFunctions.functions import *\n",
    "create_scatter_dropdown(pct_df, filename = \"IncomePropertyAssessmentTaxesPctTotal.html\")\n",
    "\n"
   ]
  },
  {
   "cell_type": "code",
   "execution_count": null,
   "metadata": {},
   "outputs": [],
   "source": [
    "pct_df.reset_index()"
   ]
  },
  {
   "cell_type": "code",
   "execution_count": null,
   "metadata": {},
   "outputs": [],
   "source": []
  }
 ],
 "metadata": {
  "kernelspec": {
   "display_name": "base",
   "language": "python",
   "name": "python3"
  },
  "language_info": {
   "codemirror_mode": {
    "name": "ipython",
    "version": 3
   },
   "file_extension": ".py",
   "mimetype": "text/x-python",
   "name": "python",
   "nbconvert_exporter": "python",
   "pygments_lexer": "ipython3",
   "version": "3.11.7"
  }
 },
 "nbformat": 4,
 "nbformat_minor": 2
}
