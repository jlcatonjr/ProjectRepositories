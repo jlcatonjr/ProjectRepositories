{
 "cells": [
  {
   "cell_type": "markdown",
   "metadata": {},
   "source": [
    "<iframe src=\"LinePlotsStateFinancesAsPercentRevenuePercentGDPAndPerCapitaFigsState & local government amount.html\" width=\"100%\" height=\"1000px\"></iframe>\n",
    "\n",
    "# Good News!\n",
    "\n",
    "## Great News!!\n",
    "\n",
    "### Conveniently, we can bulid our entire analysis in a Jupyter notebook and save it as an html file. As long as the files imported by iframe are in the appropriate folder, the reader can access the dyanmic visualization as they are reading. This is a cool feature that should help us to make the writing process go smoothly.\n",
    "\n",
    "$$X_1 + X_2^2$$\n",
    "\n",
    "\n",
    "<iframe src=\"ScatterPlotsIncomePropertyAssessmentSalesFuelTaxesPctTotalRevenueState & local government amountPercent of GDP.html\" width=\"100%\" height=\"1000px\"></iframe>\n"
   ]
  },
  {
   "cell_type": "markdown",
   "metadata": {},
   "source": []
  },
  {
   "cell_type": "code",
   "execution_count": null,
   "metadata": {},
   "outputs": [],
   "source": []
  },
  {
   "cell_type": "code",
   "execution_count": null,
   "metadata": {},
   "outputs": [],
   "source": []
  },
  {
   "cell_type": "code",
   "execution_count": null,
   "metadata": {},
   "outputs": [],
   "source": []
  }
 ],
 "metadata": {
  "kernelspec": {
   "display_name": "Python 3 (ipykernel)",
   "language": "python",
   "name": "python3"
  },
  "language_info": {
   "codemirror_mode": {
    "name": "ipython",
    "version": 3
   },
   "file_extension": ".py",
   "mimetype": "text/x-python",
   "name": "python",
   "nbconvert_exporter": "python",
   "pygments_lexer": "ipython3",
   "version": "3.11.7"
  }
 },
 "nbformat": 4,
 "nbformat_minor": 4
}
