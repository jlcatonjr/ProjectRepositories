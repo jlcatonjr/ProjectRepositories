{
 "cells": [
  {
   "cell_type": "code",
   "execution_count": 1,
   "id": "30db36ff-7485-473a-9bad-2fc69888055f",
   "metadata": {},
   "outputs": [],
   "source": [
    "import pandas as pd\n",
    "import plotly.express as px\n",
    "import plotly.graph_objects as go\n",
    "import plotly.io as pio\n",
    "\n",
    "# Load the provided Excel files\n",
    "file_with_tax_ratios = 'panelDataWithTaxRatios.xlsx'\n",
    "file_no_tax_ratios = 'panelDataNoTaxRatios.xlsx'\n",
    "\n",
    "data_with_tax_ratios = pd.read_excel(file_with_tax_ratios)\n",
    "data_no_tax_ratios = pd.read_excel(file_no_tax_ratios)\n"
   ]
  },
  {
   "cell_type": "code",
   "execution_count": 2,
   "id": "a56af030-bee9-445d-82a3-a3372da65fe2",
   "metadata": {},
   "outputs": [],
   "source": [
    "def plot_scatter_corr(data, x, y, title):\n",
    "    fig = px.scatter(data, x=x, y=y, trendline='ols')\n",
    "    fig.update_layout(title=title)\n",
    "    return fig\n",
    "\n",
    "def plot_r2(data, x, y, title):\n",
    "    fig = go.Figure()\n",
    "    fig.add_trace(go.Bar(x=x, y=y))\n",
    "    fig.update_layout(title=title)\n",
    "    return fig\n",
    "\n",
    "def compare_regs_plot(data, x, y, title):\n",
    "    fig = go.Figure()\n",
    "    fig.add_trace(go.Bar(x=x, y=y))\n",
    "    fig.update_layout(title=title)\n",
    "    return fig\n"
   ]
  },
  {
   "cell_type": "code",
   "execution_count": null,
   "id": "c03bcf7b-0390-492f-a416-c2f6067798ca",
   "metadata": {},
   "outputs": [],
   "source": []
  }
 ],
 "metadata": {
  "kernelspec": {
   "display_name": "Python 3 (ipykernel)",
   "language": "python",
   "name": "python3"
  },
  "language_info": {
   "codemirror_mode": {
    "name": "ipython",
    "version": 3
   },
   "file_extension": ".py",
   "mimetype": "text/x-python",
   "name": "python",
   "nbconvert_exporter": "python",
   "pygments_lexer": "ipython3",
   "version": "3.11.7"
  }
 },
 "nbformat": 4,
 "nbformat_minor": 5
}
