{
 "cells": [
  {
   "cell_type": "code",
   "execution_count": 6,
   "metadata": {},
   "outputs": [],
   "source": [
    "import camelot\n",
    "import pandas as pd\n",
    "from homebrewedFunctions.functions import *\n",
    "import datetime\n",
    "# Path to the PDF file\n",
    "pdf_path = \"https://www.dmr.nd.gov/oilgas/stats/historicaloilprodstats.pdf\"\n",
    "\n",
    "# Extract tables from all pages\n",
    "tables = camelot.read_pdf(pdf_path, pages='all', flavor='lattice')\n",
    "\n",
    "combine_tables = pd.concat([table.df for table in tables])\n",
    "header = [\"Year\", \"Month\", \"BBLS Oil\", \"Daily Oil\", \"Wells Producing\", \"BBLS Per Well\", \"Daily Oil Per Well\"]\n",
    "combine_tables.rename(columns={col: header[i] for i, col in enumerate(combine_tables.columns)}, inplace = True)\n",
    "combine_tables[\"Date\"] = pd.to_datetime(combine_tables[\"Year\"].astype(str) + \"-\" + combine_tables[\"Month\"].astype(str) + \"-01\")\n",
    "del combine_tables[\"Year\"]\n",
    "del combine_tables[\"Month\"]\n",
    "for key, col in combine_tables.items():\n",
    "    if key in [\"Date\"]:\n",
    "        continue\n",
    "    combine_tables[key] = pd.to_numeric(combine_tables[key], errors='coerce')\n",
    "\n"
   ]
  },
  {
   "cell_type": "code",
   "execution_count": 33,
   "metadata": {},
   "outputs": [
    {
     "data": {
      "text/html": [
       "<div>\n",
       "<style scoped>\n",
       "    .dataframe tbody tr th:only-of-type {\n",
       "        vertical-align: middle;\n",
       "    }\n",
       "\n",
       "    .dataframe tbody tr th {\n",
       "        vertical-align: top;\n",
       "    }\n",
       "\n",
       "    .dataframe thead th {\n",
       "        text-align: right;\n",
       "    }\n",
       "</style>\n",
       "<table border=\"1\" class=\"dataframe\">\n",
       "  <thead>\n",
       "    <tr style=\"text-align: right;\">\n",
       "      <th></th>\n",
       "      <th>North Dakota Crude Oil First Purchase Price (Dollars per Barrel)</th>\n",
       "    </tr>\n",
       "    <tr>\n",
       "      <th>Date</th>\n",
       "      <th></th>\n",
       "    </tr>\n",
       "  </thead>\n",
       "  <tbody>\n",
       "    <tr>\n",
       "      <th>1977-12-31</th>\n",
       "      <td>9.045000</td>\n",
       "    </tr>\n",
       "    <tr>\n",
       "      <th>1978-12-31</th>\n",
       "      <td>9.718333</td>\n",
       "    </tr>\n",
       "    <tr>\n",
       "      <th>1979-12-31</th>\n",
       "      <td>13.368333</td>\n",
       "    </tr>\n",
       "    <tr>\n",
       "      <th>1980-12-31</th>\n",
       "      <td>26.435000</td>\n",
       "    </tr>\n",
       "    <tr>\n",
       "      <th>1981-12-31</th>\n",
       "      <td>35.626667</td>\n",
       "    </tr>\n",
       "    <tr>\n",
       "      <th>1982-12-31</th>\n",
       "      <td>31.949167</td>\n",
       "    </tr>\n",
       "    <tr>\n",
       "      <th>1983-12-31</th>\n",
       "      <td>29.265000</td>\n",
       "    </tr>\n",
       "    <tr>\n",
       "      <th>1984-12-31</th>\n",
       "      <td>28.381667</td>\n",
       "    </tr>\n",
       "    <tr>\n",
       "      <th>1985-12-31</th>\n",
       "      <td>25.313333</td>\n",
       "    </tr>\n",
       "    <tr>\n",
       "      <th>1986-12-31</th>\n",
       "      <td>13.490833</td>\n",
       "    </tr>\n",
       "    <tr>\n",
       "      <th>1987-12-31</th>\n",
       "      <td>16.761667</td>\n",
       "    </tr>\n",
       "    <tr>\n",
       "      <th>1988-12-31</th>\n",
       "      <td>13.843333</td>\n",
       "    </tr>\n",
       "    <tr>\n",
       "      <th>1989-12-31</th>\n",
       "      <td>17.119167</td>\n",
       "    </tr>\n",
       "    <tr>\n",
       "      <th>1990-12-31</th>\n",
       "      <td>21.918333</td>\n",
       "    </tr>\n",
       "    <tr>\n",
       "      <th>1991-12-31</th>\n",
       "      <td>18.788333</td>\n",
       "    </tr>\n",
       "    <tr>\n",
       "      <th>1992-12-31</th>\n",
       "      <td>18.041667</td>\n",
       "    </tr>\n",
       "    <tr>\n",
       "      <th>1993-12-31</th>\n",
       "      <td>15.209167</td>\n",
       "    </tr>\n",
       "    <tr>\n",
       "      <th>1994-12-31</th>\n",
       "      <td>14.055833</td>\n",
       "    </tr>\n",
       "    <tr>\n",
       "      <th>1995-12-31</th>\n",
       "      <td>15.574167</td>\n",
       "    </tr>\n",
       "    <tr>\n",
       "      <th>1996-12-31</th>\n",
       "      <td>19.388333</td>\n",
       "    </tr>\n",
       "    <tr>\n",
       "      <th>1997-12-31</th>\n",
       "      <td>17.703333</td>\n",
       "    </tr>\n",
       "    <tr>\n",
       "      <th>1998-12-31</th>\n",
       "      <td>11.365833</td>\n",
       "    </tr>\n",
       "    <tr>\n",
       "      <th>1999-12-31</th>\n",
       "      <td>16.640000</td>\n",
       "    </tr>\n",
       "    <tr>\n",
       "      <th>2000-12-31</th>\n",
       "      <td>28.207500</td>\n",
       "    </tr>\n",
       "    <tr>\n",
       "      <th>2001-12-31</th>\n",
       "      <td>23.580000</td>\n",
       "    </tr>\n",
       "    <tr>\n",
       "      <th>2002-12-31</th>\n",
       "      <td>23.983333</td>\n",
       "    </tr>\n",
       "    <tr>\n",
       "      <th>2003-12-31</th>\n",
       "      <td>29.280000</td>\n",
       "    </tr>\n",
       "    <tr>\n",
       "      <th>2004-12-31</th>\n",
       "      <td>38.865000</td>\n",
       "    </tr>\n",
       "    <tr>\n",
       "      <th>2005-12-31</th>\n",
       "      <td>52.212500</td>\n",
       "    </tr>\n",
       "    <tr>\n",
       "      <th>2006-12-31</th>\n",
       "      <td>56.642500</td>\n",
       "    </tr>\n",
       "    <tr>\n",
       "      <th>2007-12-31</th>\n",
       "      <td>64.654167</td>\n",
       "    </tr>\n",
       "    <tr>\n",
       "      <th>2008-12-31</th>\n",
       "      <td>90.696667</td>\n",
       "    </tr>\n",
       "    <tr>\n",
       "      <th>2009-12-31</th>\n",
       "      <td>53.204167</td>\n",
       "    </tr>\n",
       "    <tr>\n",
       "      <th>2010-12-31</th>\n",
       "      <td>70.175833</td>\n",
       "    </tr>\n",
       "    <tr>\n",
       "      <th>2011-12-31</th>\n",
       "      <td>89.085000</td>\n",
       "    </tr>\n",
       "    <tr>\n",
       "      <th>2012-12-31</th>\n",
       "      <td>84.180833</td>\n",
       "    </tr>\n",
       "    <tr>\n",
       "      <th>2013-12-31</th>\n",
       "      <td>90.175000</td>\n",
       "    </tr>\n",
       "    <tr>\n",
       "      <th>2014-12-31</th>\n",
       "      <td>83.678333</td>\n",
       "    </tr>\n",
       "    <tr>\n",
       "      <th>2015-12-31</th>\n",
       "      <td>41.188333</td>\n",
       "    </tr>\n",
       "    <tr>\n",
       "      <th>2016-12-31</th>\n",
       "      <td>36.737500</td>\n",
       "    </tr>\n",
       "    <tr>\n",
       "      <th>2017-12-31</th>\n",
       "      <td>46.920833</td>\n",
       "    </tr>\n",
       "    <tr>\n",
       "      <th>2018-12-31</th>\n",
       "      <td>60.579167</td>\n",
       "    </tr>\n",
       "    <tr>\n",
       "      <th>2019-12-31</th>\n",
       "      <td>52.666667</td>\n",
       "    </tr>\n",
       "    <tr>\n",
       "      <th>2020-12-31</th>\n",
       "      <td>34.969167</td>\n",
       "    </tr>\n",
       "    <tr>\n",
       "      <th>2021-12-31</th>\n",
       "      <td>63.120833</td>\n",
       "    </tr>\n",
       "    <tr>\n",
       "      <th>2022-12-31</th>\n",
       "      <td>91.538333</td>\n",
       "    </tr>\n",
       "    <tr>\n",
       "      <th>2023-12-31</th>\n",
       "      <td>73.149167</td>\n",
       "    </tr>\n",
       "    <tr>\n",
       "      <th>2024-12-31</th>\n",
       "      <td>72.900000</td>\n",
       "    </tr>\n",
       "  </tbody>\n",
       "</table>\n",
       "</div>"
      ],
      "text/plain": [
       "            North Dakota Crude Oil First Purchase Price (Dollars per Barrel)\n",
       "Date                                                                        \n",
       "1977-12-31                                           9.045000               \n",
       "1978-12-31                                           9.718333               \n",
       "1979-12-31                                          13.368333               \n",
       "1980-12-31                                          26.435000               \n",
       "1981-12-31                                          35.626667               \n",
       "1982-12-31                                          31.949167               \n",
       "1983-12-31                                          29.265000               \n",
       "1984-12-31                                          28.381667               \n",
       "1985-12-31                                          25.313333               \n",
       "1986-12-31                                          13.490833               \n",
       "1987-12-31                                          16.761667               \n",
       "1988-12-31                                          13.843333               \n",
       "1989-12-31                                          17.119167               \n",
       "1990-12-31                                          21.918333               \n",
       "1991-12-31                                          18.788333               \n",
       "1992-12-31                                          18.041667               \n",
       "1993-12-31                                          15.209167               \n",
       "1994-12-31                                          14.055833               \n",
       "1995-12-31                                          15.574167               \n",
       "1996-12-31                                          19.388333               \n",
       "1997-12-31                                          17.703333               \n",
       "1998-12-31                                          11.365833               \n",
       "1999-12-31                                          16.640000               \n",
       "2000-12-31                                          28.207500               \n",
       "2001-12-31                                          23.580000               \n",
       "2002-12-31                                          23.983333               \n",
       "2003-12-31                                          29.280000               \n",
       "2004-12-31                                          38.865000               \n",
       "2005-12-31                                          52.212500               \n",
       "2006-12-31                                          56.642500               \n",
       "2007-12-31                                          64.654167               \n",
       "2008-12-31                                          90.696667               \n",
       "2009-12-31                                          53.204167               \n",
       "2010-12-31                                          70.175833               \n",
       "2011-12-31                                          89.085000               \n",
       "2012-12-31                                          84.180833               \n",
       "2013-12-31                                          90.175000               \n",
       "2014-12-31                                          83.678333               \n",
       "2015-12-31                                          41.188333               \n",
       "2016-12-31                                          36.737500               \n",
       "2017-12-31                                          46.920833               \n",
       "2018-12-31                                          60.579167               \n",
       "2019-12-31                                          52.666667               \n",
       "2020-12-31                                          34.969167               \n",
       "2021-12-31                                          63.120833               \n",
       "2022-12-31                                          91.538333               \n",
       "2023-12-31                                          73.149167               \n",
       "2024-12-31                                          72.900000               "
      ]
     },
     "execution_count": 33,
     "metadata": {},
     "output_type": "execute_result"
    }
   ],
   "source": [
    "nd_crude_price = \"https://www.eia.gov/dnav/pet/hist_xls/F002038__3m.xls\"\n",
    "nd_crude_price = pd.read_excel(nd_crude_price, sheet_name=\"Data 1\", skiprows=2)\n",
    "nd_crude_price = nd_crude_price.resample(\"A\", on=\"Date\").mean()\n",
    "nd_crude_price"
   ]
  },
  {
   "cell_type": "code",
   "execution_count": 8,
   "metadata": {},
   "outputs": [],
   "source": [
    "# price_per_barrel = gather_data({\"Texas Crude Price\": \"DCOILWTICO\"}, \n",
    "#             start = datetime.datetime(1986,1,1),\n",
    "#             end = datetime.datetime.now(),\n",
    "#             freq = \"A\")"
   ]
  },
  {
   "cell_type": "code",
   "execution_count": 23,
   "metadata": {},
   "outputs": [],
   "source": [
    "mean_tables = combine_tables.set_index(\"Date\").resample(\"Y\").mean()\n",
    "annual = combine_tables.set_index(\"Date\").resample(\"Y\").sum()\n",
    "annual[\"Daily Oil\"] = mean_tables[\"Daily Oil\"]\n",
    "annual[\"Wells Producing\"] = mean_tables[\"Wells Producing\"]\n",
    "annual[\"BBLS Per Well\"] = annual[\"BBLS Oil\"] / annual[\"Wells Producing\"]\n",
    "annual[\"Daily Oil Per Well\"] = annual[\"Daily Oil\"] / annual[\"Wells Producing\"]\n",
    "annual[\"Price Per Barrel\"] = nd_crude_price[\"North Dakota Crude Oil First Purchase Price (Dollars per Barrel)\"]\n",
    "annual[\"Approximate Annual Revenue\"] = annual[\"BBLS Oil\"] * annual[\"Price Per Barrel\"]"
   ]
  },
  {
   "cell_type": "code",
   "execution_count": 31,
   "metadata": {},
   "outputs": [
    {
     "name": "stderr",
     "output_type": "stream",
     "text": [
      "/tmp/ipykernel_55348/1839450075.py:11: FutureWarning:\n",
      "\n",
      "Setting an item of incompatible dtype is deprecated and will raise in a future error of pandas. Value '437581220.57142854' has dtype incompatible with int64, please explicitly cast to a compatible dtype first.\n",
      "\n",
      "/home/jamescaton/anaconda3/lib/python3.11/site-packages/_plotly_utils/basevalidators.py:106: FutureWarning:\n",
      "\n",
      "The behavior of DatetimeProperties.to_pydatetime is deprecated, in a future version this will return a Series containing python datetime objects instead of an ndarray. To retain the old behavior, call `np.array` on the result\n",
      "\n"
     ]
    },
    {
     "data": {
      "application/vnd.plotly.v1+json": {
       "config": {
        "plotlyServerURL": "https://plot.ly"
       },
       "data": [
        {
         "hovertemplate": "%{x}<br>%{yaxis.title.text}: %{y}",
         "legendgroup": "",
         "line": {
          "color": "#636efa",
          "dash": "solid"
         },
         "marker": {
          "symbol": "circle"
         },
         "mode": "lines",
         "name": "",
         "orientation": "v",
         "showlegend": false,
         "type": "scatter",
         "x": [
          "1984-12-31T00:00:00",
          "1985-12-31T00:00:00",
          "1986-12-31T00:00:00",
          "1987-12-31T00:00:00",
          "1988-12-31T00:00:00",
          "1989-12-31T00:00:00",
          "1990-12-31T00:00:00",
          "1991-12-31T00:00:00",
          "1992-12-31T00:00:00",
          "1993-12-31T00:00:00",
          "1994-12-31T00:00:00",
          "1995-12-31T00:00:00",
          "1996-12-31T00:00:00",
          "1997-12-31T00:00:00",
          "1998-12-31T00:00:00",
          "1999-12-31T00:00:00",
          "2000-12-31T00:00:00",
          "2001-12-31T00:00:00",
          "2002-12-31T00:00:00",
          "2003-12-31T00:00:00",
          "2004-12-31T00:00:00",
          "2005-12-31T00:00:00",
          "2006-12-31T00:00:00",
          "2007-12-31T00:00:00",
          "2008-12-31T00:00:00",
          "2009-12-31T00:00:00",
          "2010-12-31T00:00:00",
          "2011-12-31T00:00:00",
          "2012-12-31T00:00:00",
          "2013-12-31T00:00:00",
          "2014-12-31T00:00:00",
          "2015-12-31T00:00:00",
          "2016-12-31T00:00:00",
          "2017-12-31T00:00:00",
          "2018-12-31T00:00:00",
          "2019-12-31T00:00:00",
          "2020-12-31T00:00:00",
          "2021-12-31T00:00:00",
          "2022-12-31T00:00:00",
          "2023-12-31T00:00:00",
          "2024-12-31T00:00:00"
         ],
         "xaxis": "x",
         "y": [
          1494533042.4733331,
          1289598195.76,
          615949102.2741667,
          693313354.7066667,
          544927962.77,
          629068413.6475,
          804916664.8216666,
          674486793.5916666,
          593619924.7083334,
          470344376.5075,
          389253238.5441667,
          456869643.13833326,
          626241305.3866667,
          634436056.1866666,
          404214769.44666666,
          547099537.9200001,
          922752455.235,
          747334522.0799999,
          738760799.15,
          861152703.84,
          1210732001.925,
          1862656554.2625,
          2262477494.8900003,
          2917312248.1916666,
          5693918231.213333,
          4241844029.808334,
          7934329893.5125,
          13633531518.81,
          20483606678.896664,
          28318083581.25,
          33239980481.47333,
          17809493058.283333,
          13974695919.750002,
          18525564660.141663,
          28253795660.62083,
          27620014075.333332,
          15340380129.785,
          25822991585.841667,
          35729864544.25667,
          31841457726.266663,
          275498366278.2884
         ],
         "yaxis": "y"
        }
       ],
       "layout": {
        "legend": {
         "tracegroupgap": 0
        },
        "template": {
         "data": {
          "bar": [
           {
            "error_x": {
             "color": "#2a3f5f"
            },
            "error_y": {
             "color": "#2a3f5f"
            },
            "marker": {
             "line": {
              "color": "#E5ECF6",
              "width": 0.5
             },
             "pattern": {
              "fillmode": "overlay",
              "size": 10,
              "solidity": 0.2
             }
            },
            "type": "bar"
           }
          ],
          "barpolar": [
           {
            "marker": {
             "line": {
              "color": "#E5ECF6",
              "width": 0.5
             },
             "pattern": {
              "fillmode": "overlay",
              "size": 10,
              "solidity": 0.2
             }
            },
            "type": "barpolar"
           }
          ],
          "carpet": [
           {
            "aaxis": {
             "endlinecolor": "#2a3f5f",
             "gridcolor": "white",
             "linecolor": "white",
             "minorgridcolor": "white",
             "startlinecolor": "#2a3f5f"
            },
            "baxis": {
             "endlinecolor": "#2a3f5f",
             "gridcolor": "white",
             "linecolor": "white",
             "minorgridcolor": "white",
             "startlinecolor": "#2a3f5f"
            },
            "type": "carpet"
           }
          ],
          "choropleth": [
           {
            "colorbar": {
             "outlinewidth": 0,
             "ticks": ""
            },
            "type": "choropleth"
           }
          ],
          "contour": [
           {
            "colorbar": {
             "outlinewidth": 0,
             "ticks": ""
            },
            "colorscale": [
             [
              0,
              "#0d0887"
             ],
             [
              0.1111111111111111,
              "#46039f"
             ],
             [
              0.2222222222222222,
              "#7201a8"
             ],
             [
              0.3333333333333333,
              "#9c179e"
             ],
             [
              0.4444444444444444,
              "#bd3786"
             ],
             [
              0.5555555555555556,
              "#d8576b"
             ],
             [
              0.6666666666666666,
              "#ed7953"
             ],
             [
              0.7777777777777778,
              "#fb9f3a"
             ],
             [
              0.8888888888888888,
              "#fdca26"
             ],
             [
              1,
              "#f0f921"
             ]
            ],
            "type": "contour"
           }
          ],
          "contourcarpet": [
           {
            "colorbar": {
             "outlinewidth": 0,
             "ticks": ""
            },
            "type": "contourcarpet"
           }
          ],
          "heatmap": [
           {
            "colorbar": {
             "outlinewidth": 0,
             "ticks": ""
            },
            "colorscale": [
             [
              0,
              "#0d0887"
             ],
             [
              0.1111111111111111,
              "#46039f"
             ],
             [
              0.2222222222222222,
              "#7201a8"
             ],
             [
              0.3333333333333333,
              "#9c179e"
             ],
             [
              0.4444444444444444,
              "#bd3786"
             ],
             [
              0.5555555555555556,
              "#d8576b"
             ],
             [
              0.6666666666666666,
              "#ed7953"
             ],
             [
              0.7777777777777778,
              "#fb9f3a"
             ],
             [
              0.8888888888888888,
              "#fdca26"
             ],
             [
              1,
              "#f0f921"
             ]
            ],
            "type": "heatmap"
           }
          ],
          "heatmapgl": [
           {
            "colorbar": {
             "outlinewidth": 0,
             "ticks": ""
            },
            "colorscale": [
             [
              0,
              "#0d0887"
             ],
             [
              0.1111111111111111,
              "#46039f"
             ],
             [
              0.2222222222222222,
              "#7201a8"
             ],
             [
              0.3333333333333333,
              "#9c179e"
             ],
             [
              0.4444444444444444,
              "#bd3786"
             ],
             [
              0.5555555555555556,
              "#d8576b"
             ],
             [
              0.6666666666666666,
              "#ed7953"
             ],
             [
              0.7777777777777778,
              "#fb9f3a"
             ],
             [
              0.8888888888888888,
              "#fdca26"
             ],
             [
              1,
              "#f0f921"
             ]
            ],
            "type": "heatmapgl"
           }
          ],
          "histogram": [
           {
            "marker": {
             "pattern": {
              "fillmode": "overlay",
              "size": 10,
              "solidity": 0.2
             }
            },
            "type": "histogram"
           }
          ],
          "histogram2d": [
           {
            "colorbar": {
             "outlinewidth": 0,
             "ticks": ""
            },
            "colorscale": [
             [
              0,
              "#0d0887"
             ],
             [
              0.1111111111111111,
              "#46039f"
             ],
             [
              0.2222222222222222,
              "#7201a8"
             ],
             [
              0.3333333333333333,
              "#9c179e"
             ],
             [
              0.4444444444444444,
              "#bd3786"
             ],
             [
              0.5555555555555556,
              "#d8576b"
             ],
             [
              0.6666666666666666,
              "#ed7953"
             ],
             [
              0.7777777777777778,
              "#fb9f3a"
             ],
             [
              0.8888888888888888,
              "#fdca26"
             ],
             [
              1,
              "#f0f921"
             ]
            ],
            "type": "histogram2d"
           }
          ],
          "histogram2dcontour": [
           {
            "colorbar": {
             "outlinewidth": 0,
             "ticks": ""
            },
            "colorscale": [
             [
              0,
              "#0d0887"
             ],
             [
              0.1111111111111111,
              "#46039f"
             ],
             [
              0.2222222222222222,
              "#7201a8"
             ],
             [
              0.3333333333333333,
              "#9c179e"
             ],
             [
              0.4444444444444444,
              "#bd3786"
             ],
             [
              0.5555555555555556,
              "#d8576b"
             ],
             [
              0.6666666666666666,
              "#ed7953"
             ],
             [
              0.7777777777777778,
              "#fb9f3a"
             ],
             [
              0.8888888888888888,
              "#fdca26"
             ],
             [
              1,
              "#f0f921"
             ]
            ],
            "type": "histogram2dcontour"
           }
          ],
          "mesh3d": [
           {
            "colorbar": {
             "outlinewidth": 0,
             "ticks": ""
            },
            "type": "mesh3d"
           }
          ],
          "parcoords": [
           {
            "line": {
             "colorbar": {
              "outlinewidth": 0,
              "ticks": ""
             }
            },
            "type": "parcoords"
           }
          ],
          "pie": [
           {
            "automargin": true,
            "type": "pie"
           }
          ],
          "scatter": [
           {
            "fillpattern": {
             "fillmode": "overlay",
             "size": 10,
             "solidity": 0.2
            },
            "type": "scatter"
           }
          ],
          "scatter3d": [
           {
            "line": {
             "colorbar": {
              "outlinewidth": 0,
              "ticks": ""
             }
            },
            "marker": {
             "colorbar": {
              "outlinewidth": 0,
              "ticks": ""
             }
            },
            "type": "scatter3d"
           }
          ],
          "scattercarpet": [
           {
            "marker": {
             "colorbar": {
              "outlinewidth": 0,
              "ticks": ""
             }
            },
            "type": "scattercarpet"
           }
          ],
          "scattergeo": [
           {
            "marker": {
             "colorbar": {
              "outlinewidth": 0,
              "ticks": ""
             }
            },
            "type": "scattergeo"
           }
          ],
          "scattergl": [
           {
            "marker": {
             "colorbar": {
              "outlinewidth": 0,
              "ticks": ""
             }
            },
            "type": "scattergl"
           }
          ],
          "scattermapbox": [
           {
            "marker": {
             "colorbar": {
              "outlinewidth": 0,
              "ticks": ""
             }
            },
            "type": "scattermapbox"
           }
          ],
          "scatterpolar": [
           {
            "marker": {
             "colorbar": {
              "outlinewidth": 0,
              "ticks": ""
             }
            },
            "type": "scatterpolar"
           }
          ],
          "scatterpolargl": [
           {
            "marker": {
             "colorbar": {
              "outlinewidth": 0,
              "ticks": ""
             }
            },
            "type": "scatterpolargl"
           }
          ],
          "scatterternary": [
           {
            "marker": {
             "colorbar": {
              "outlinewidth": 0,
              "ticks": ""
             }
            },
            "type": "scatterternary"
           }
          ],
          "surface": [
           {
            "colorbar": {
             "outlinewidth": 0,
             "ticks": ""
            },
            "colorscale": [
             [
              0,
              "#0d0887"
             ],
             [
              0.1111111111111111,
              "#46039f"
             ],
             [
              0.2222222222222222,
              "#7201a8"
             ],
             [
              0.3333333333333333,
              "#9c179e"
             ],
             [
              0.4444444444444444,
              "#bd3786"
             ],
             [
              0.5555555555555556,
              "#d8576b"
             ],
             [
              0.6666666666666666,
              "#ed7953"
             ],
             [
              0.7777777777777778,
              "#fb9f3a"
             ],
             [
              0.8888888888888888,
              "#fdca26"
             ],
             [
              1,
              "#f0f921"
             ]
            ],
            "type": "surface"
           }
          ],
          "table": [
           {
            "cells": {
             "fill": {
              "color": "#EBF0F8"
             },
             "line": {
              "color": "white"
             }
            },
            "header": {
             "fill": {
              "color": "#C8D4E3"
             },
             "line": {
              "color": "white"
             }
            },
            "type": "table"
           }
          ]
         },
         "layout": {
          "annotationdefaults": {
           "arrowcolor": "#2a3f5f",
           "arrowhead": 0,
           "arrowwidth": 1
          },
          "autotypenumbers": "strict",
          "coloraxis": {
           "colorbar": {
            "outlinewidth": 0,
            "ticks": ""
           }
          },
          "colorscale": {
           "diverging": [
            [
             0,
             "#8e0152"
            ],
            [
             0.1,
             "#c51b7d"
            ],
            [
             0.2,
             "#de77ae"
            ],
            [
             0.3,
             "#f1b6da"
            ],
            [
             0.4,
             "#fde0ef"
            ],
            [
             0.5,
             "#f7f7f7"
            ],
            [
             0.6,
             "#e6f5d0"
            ],
            [
             0.7,
             "#b8e186"
            ],
            [
             0.8,
             "#7fbc41"
            ],
            [
             0.9,
             "#4d9221"
            ],
            [
             1,
             "#276419"
            ]
           ],
           "sequential": [
            [
             0,
             "#0d0887"
            ],
            [
             0.1111111111111111,
             "#46039f"
            ],
            [
             0.2222222222222222,
             "#7201a8"
            ],
            [
             0.3333333333333333,
             "#9c179e"
            ],
            [
             0.4444444444444444,
             "#bd3786"
            ],
            [
             0.5555555555555556,
             "#d8576b"
            ],
            [
             0.6666666666666666,
             "#ed7953"
            ],
            [
             0.7777777777777778,
             "#fb9f3a"
            ],
            [
             0.8888888888888888,
             "#fdca26"
            ],
            [
             1,
             "#f0f921"
            ]
           ],
           "sequentialminus": [
            [
             0,
             "#0d0887"
            ],
            [
             0.1111111111111111,
             "#46039f"
            ],
            [
             0.2222222222222222,
             "#7201a8"
            ],
            [
             0.3333333333333333,
             "#9c179e"
            ],
            [
             0.4444444444444444,
             "#bd3786"
            ],
            [
             0.5555555555555556,
             "#d8576b"
            ],
            [
             0.6666666666666666,
             "#ed7953"
            ],
            [
             0.7777777777777778,
             "#fb9f3a"
            ],
            [
             0.8888888888888888,
             "#fdca26"
            ],
            [
             1,
             "#f0f921"
            ]
           ]
          },
          "colorway": [
           "#636efa",
           "#EF553B",
           "#00cc96",
           "#ab63fa",
           "#FFA15A",
           "#19d3f3",
           "#FF6692",
           "#B6E880",
           "#FF97FF",
           "#FECB52"
          ],
          "font": {
           "color": "#2a3f5f"
          },
          "geo": {
           "bgcolor": "white",
           "lakecolor": "white",
           "landcolor": "#E5ECF6",
           "showlakes": true,
           "showland": true,
           "subunitcolor": "white"
          },
          "hoverlabel": {
           "align": "left"
          },
          "hovermode": "closest",
          "mapbox": {
           "style": "light"
          },
          "paper_bgcolor": "white",
          "plot_bgcolor": "#E5ECF6",
          "polar": {
           "angularaxis": {
            "gridcolor": "white",
            "linecolor": "white",
            "ticks": ""
           },
           "bgcolor": "#E5ECF6",
           "radialaxis": {
            "gridcolor": "white",
            "linecolor": "white",
            "ticks": ""
           }
          },
          "scene": {
           "xaxis": {
            "backgroundcolor": "#E5ECF6",
            "gridcolor": "white",
            "gridwidth": 2,
            "linecolor": "white",
            "showbackground": true,
            "ticks": "",
            "zerolinecolor": "white"
           },
           "yaxis": {
            "backgroundcolor": "#E5ECF6",
            "gridcolor": "white",
            "gridwidth": 2,
            "linecolor": "white",
            "showbackground": true,
            "ticks": "",
            "zerolinecolor": "white"
           },
           "zaxis": {
            "backgroundcolor": "#E5ECF6",
            "gridcolor": "white",
            "gridwidth": 2,
            "linecolor": "white",
            "showbackground": true,
            "ticks": "",
            "zerolinecolor": "white"
           }
          },
          "shapedefaults": {
           "line": {
            "color": "#2a3f5f"
           }
          },
          "ternary": {
           "aaxis": {
            "gridcolor": "white",
            "linecolor": "white",
            "ticks": ""
           },
           "baxis": {
            "gridcolor": "white",
            "linecolor": "white",
            "ticks": ""
           },
           "bgcolor": "#E5ECF6",
           "caxis": {
            "gridcolor": "white",
            "linecolor": "white",
            "ticks": ""
           }
          },
          "title": {
           "x": 0.05
          },
          "xaxis": {
           "automargin": true,
           "gridcolor": "white",
           "linecolor": "white",
           "ticks": "",
           "title": {
            "standoff": 15
           },
           "zerolinecolor": "white",
           "zerolinewidth": 2
          },
          "yaxis": {
           "automargin": true,
           "gridcolor": "white",
           "linecolor": "white",
           "ticks": "",
           "title": {
            "standoff": 15
           },
           "zerolinecolor": "white",
           "zerolinewidth": 2
          }
         }
        },
        "title": {
         "text": "Approximate Annual Revenue"
        },
        "updatemenus": [
         {
          "buttons": [
           {
            "args": [
             {
              "y": [
               [
                52658396,
                50945412,
                45656861,
                41363032,
                39363927,
                36746439,
                36723443,
                35899235,
                32902721,
                30925059,
                27693359,
                29335094,
                32299904,
                35837096,
                35564024,
                32878578,
                32713018,
                31693576,
                30803091,
                29410953,
                31152245,
                35674533,
                39943108,
                45121798,
                62779796,
                79727666,
                113063565,
                153039586,
                243328628,
                314034750,
                397235212,
                432391690,
                380393220,
                394825994,
                466394591,
                524430647,
                438683034,
                409104098,
                390326798,
                435294880,
                437581220.57142854
               ]
              ]
             },
             {
              "title": "BBLS Oil",
              "yaxis.title.text": "BBLS Oil"
             }
            ],
            "label": "BBLS Oil",
            "method": "update"
           },
           {
            "args": [
             {
              "y": [
               [
                143870.33333333334,
                139584.08333333334,
                125145,
                113351.91666666667,
                107559.91666666667,
                100670.08333333333,
                100617.5,
                98370.5,
                89910.33333333333,
                84745.41666666667,
                75869.83333333333,
                80362.66666666667,
                88237.08333333333,
                98160.41666666667,
                97438.66666666667,
                90084.41666666667,
                89385.25,
                86839.25,
                84402.58333333333,
                80591.25,
                85099.66666666667,
                97710.41666666667,
                109404.25,
                123577.58333333333,
                171446.33333333334,
                218280.41666666666,
                309537.6666666667,
                418810.0833333333,
                664485.4166666666,
                859983,
                1087558.1666666667,
                1184558.9166666667,
                1039538.5,
                1081498.3333333333,
                1277205.4166666667,
                1436078.8333333333,
                1199372.3333333333,
                1120668.5833333333,
                1069469.5,
                1192620.0833333333,
                1199072
               ]
              ]
             },
             {
              "title": "Daily Oil",
              "yaxis.title.text": "Daily Oil"
             }
            ],
            "label": "Daily Oil",
            "method": "update"
           },
           {
            "args": [
             {
              "y": [
               [
                3246,
                3416.3333333333335,
                3245.3333333333335,
                3251.3333333333335,
                3291.5,
                3222.3333333333335,
                3311.4166666666665,
                3407,
                3364.5833333333335,
                3308.5,
                3154.5833333333335,
                3160,
                3173,
                3224.25,
                3111.8333333333335,
                2944.1666666666665,
                3139.8333333333335,
                3185.6666666666665,
                3215.5,
                3170.1666666666665,
                3156.9166666666665,
                3227.75,
                3363.75,
                3539.8333333333335,
                3868.8333333333335,
                4189.416666666667,
                4782.583333333333,
                5545.75,
                7200.75,
                8937.25,
                10800.333333333334,
                12390.666666666666,
                12932.833333333334,
                13619.416666666666,
                14570.583333333334,
                15411.833333333334,
                14711.833333333334,
                16306.75,
                16881.083333333332,
                17697.916666666668,
                18501.285714285714
               ]
              ]
             },
             {
              "title": "Wells Producing",
              "yaxis.title.text": "Wells Producing"
             }
            ],
            "label": "Wells Producing",
            "method": "update"
           },
           {
            "args": [
             {
              "y": [
               [
                16222.549599507085,
                14912.307151917259,
                14068.465797041905,
                12721.867541521426,
                11959.266899589853,
                11403.67404572256,
                11089.949316757682,
                10536.904901673026,
                9779.136891640866,
                9347.153997279735,
                8778.769198256505,
                9283.25759493671,
                10179.610463283958,
                11114.8626812437,
                11428.640351347009,
                11167.363034248514,
                10418.711608896438,
                9948.804855080047,
                9579.564919919141,
                9277.41538299774,
                9867.933901750126,
                11052.446131205948,
                11874.576885916016,
                12746.870756626959,
                16227.061388015336,
                19030.732043044973,
                23640.68895819902,
                27595.83212369833,
                33792.122764989756,
                35137.73811854877,
                36779.90296595784,
                34896.563811471,
                29412.984007113675,
                28989.934272760092,
                32009.32868164738,
                34027.79122103146,
                29818.37980763784,
                25088.02170880157,
                23122.1415292265,
                24595.82606238964,
                204262.9451705348
               ]
              ]
             },
             {
              "title": "BBLS Per Well",
              "yaxis.title.text": "BBLS Per Well"
             }
            ],
            "label": "BBLS Per Well",
            "method": "update"
           },
           {
            "args": [
             {
              "y": [
               [
                44.322345450811255,
                40.857864181871406,
                38.561524239934265,
                34.8632099651425,
                32.67808496632741,
                31.241362366814933,
                30.385031582655966,
                28.873055474024067,
                26.722575851393188,
                25.614452672409453,
                24.050667018887857,
                25.431223628691985,
                27.808724655951252,
                30.444418598640514,
                31.312302501205078,
                30.59759411265214,
                28.46815117575243,
                27.259364863450877,
                26.248665319027626,
                25.42177067451764,
                26.956576828656654,
                30.27199029251543,
                32.52448903753252,
                34.91056546918404,
                44.3147374316116,
                52.10281861038728,
                64.72185534317228,
                75.51910622248268,
                92.28002870071404,
                96.2245657221181,
                100.69672232338509,
                95.60090256106749,
                80.37979561065505,
                79.40856497769728,
                87.65643677043359,
                93.18027273415449,
                81.52432848840502,
                68.72421441018801,
                63.35313195736846,
                67.38759741024131,
                64.81019851902185
               ]
              ]
             },
             {
              "title": "Daily Oil Per Well",
              "yaxis.title.text": "Daily Oil Per Well"
             }
            ],
            "label": "Daily Oil Per Well",
            "method": "update"
           },
           {
            "args": [
             {
              "y": [
               [
                28.381666666666664,
                25.313333333333333,
                13.490833333333335,
                16.761666666666667,
                13.843333333333334,
                17.11916666666667,
                21.918333333333333,
                18.78833333333333,
                18.041666666666668,
                15.209166666666667,
                14.055833333333334,
                15.574166666666665,
                19.388333333333332,
                17.703333333333333,
                11.365833333333333,
                16.64,
                28.2075,
                23.58,
                23.983333333333334,
                29.28,
                38.865,
                52.2125,
                56.642500000000005,
                64.65416666666667,
                90.69666666666666,
                53.20416666666667,
                70.17583333333333,
                89.085,
                84.18083333333333,
                90.175,
                83.67833333333333,
                41.18833333333333,
                36.737500000000004,
                46.92083333333333,
                60.57916666666666,
                52.666666666666664,
                34.969166666666666,
                63.12083333333334,
                91.53833333333334,
                73.14916666666666,
                72.9
               ]
              ]
             },
             {
              "title": "Price Per Barrel",
              "yaxis.title.text": "Price Per Barrel"
             }
            ],
            "label": "Price Per Barrel",
            "method": "update"
           },
           {
            "args": [
             {
              "y": [
               [
                1494533042.4733331,
                1289598195.76,
                615949102.2741667,
                693313354.7066667,
                544927962.77,
                629068413.6475,
                804916664.8216666,
                674486793.5916666,
                593619924.7083334,
                470344376.5075,
                389253238.5441667,
                456869643.13833326,
                626241305.3866667,
                634436056.1866666,
                404214769.44666666,
                547099537.9200001,
                922752455.235,
                747334522.0799999,
                738760799.15,
                861152703.84,
                1210732001.925,
                1862656554.2625,
                2262477494.8900003,
                2917312248.1916666,
                5693918231.213333,
                4241844029.808334,
                7934329893.5125,
                13633531518.81,
                20483606678.896664,
                28318083581.25,
                33239980481.47333,
                17809493058.283333,
                13974695919.750002,
                18525564660.141663,
                28253795660.62083,
                27620014075.333332,
                15340380129.785,
                25822991585.841667,
                35729864544.25667,
                31841457726.266663,
                275498366278.2884
               ]
              ]
             },
             {
              "title": "Approximate Annual Revenue",
              "yaxis.title.text": "Approximate Annual Revenue"
             }
            ],
            "label": "Approximate Annual Revenue",
            "method": "update"
           }
          ],
          "direction": "down",
          "showactive": true,
          "x": 0.1,
          "xanchor": "left",
          "y": 1.15,
          "yanchor": "top"
         }
        ],
        "xaxis": {
         "anchor": "y",
         "domain": [
          0,
          1
         ],
         "title": {
          "text": "Date"
         }
        },
        "yaxis": {
         "anchor": "x",
         "domain": [
          0,
          1
         ],
         "title": {
          "text": "Approximate Annual Revenue"
         }
        }
       }
      }
     },
     "metadata": {},
     "output_type": "display_data"
    }
   ],
   "source": [
    "import plotly.express as px\n",
    "from pandas.api.types import is_numeric_dtype\n",
    "\n",
    "plot_df = annual.loc[\"1984\":]\n",
    "last_index = plot_df.index[-1]\n",
    "# approximate 2024 revenues\n",
    "names = [\"BBLS Oil\", \"BBLS Per Well\", \"Approximate Annual Revenue\"]\n",
    "for name in names:\n",
    "    plot_df.loc[last_index, name] = plot_df.loc[last_index, name] * (12/7)\n",
    "\n",
    "\n",
    "fig = px.line(plot_df, x=plot_df.index, \n",
    "              y=names[-1], \n",
    "              title=names[-1])\n",
    "initial_hovertemplate = f\"%{{x}}<br>%{{yaxis.title.text}}: %{{y}}\"\n",
    "fig.update_traces(hovertemplate=initial_hovertemplate)\n",
    "\n",
    "y_buttons = []\n",
    "for col in plot_df.columns:\n",
    "    if is_numeric_dtype(plot_df[col]):\n",
    "        y_buttons.append(\n",
    "            dict(\n",
    "                args=[\n",
    "                    {\"y\": [plot_df[col].dropna(axis = 0)]},\n",
    "                    {\"yaxis.title.text\": col,\n",
    "                     \"title\": col,\n",
    "                    }                     \n",
    "                ],\n",
    "                label=col,\n",
    "                method=\"update\"\n",
    "            )\n",
    "        )\n",
    "fig.update_layout(\n",
    "    updatemenus=[\n",
    "        dict(\n",
    "            buttons=y_buttons,\n",
    "            direction=\"down\",\n",
    "            showactive=True,\n",
    "            x=0.1,\n",
    "            xanchor=\"left\",\n",
    "            y=1.15,\n",
    "            yanchor=\"top\"\n",
    "        )\n",
    "    ]\n",
    ")\n",
    "\n",
    "fig.write_html(\"outputs/NDOilProduction/EstimatedOilRevenue.html\")\n",
    "fig.show()"
   ]
  },
  {
   "cell_type": "code",
   "execution_count": null,
   "metadata": {},
   "outputs": [],
   "source": []
  }
 ],
 "metadata": {
  "kernelspec": {
   "display_name": "base",
   "language": "python",
   "name": "python3"
  },
  "language_info": {
   "codemirror_mode": {
    "name": "ipython",
    "version": 3
   },
   "file_extension": ".py",
   "mimetype": "text/x-python",
   "name": "python",
   "nbconvert_exporter": "python",
   "pygments_lexer": "ipython3",
   "version": "3.11.7"
  }
 },
 "nbformat": 4,
 "nbformat_minor": 2
}
