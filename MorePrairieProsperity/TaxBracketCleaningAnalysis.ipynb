{
 "cells": [
  {
   "cell_type": "code",
   "execution_count": 1,
   "metadata": {},
   "outputs": [],
   "source": [
    "# https://taxfoundation.org/data/all/state/state-income-tax-rates-2024/\n",
    "import pandas as pd\n",
    "tax_bracket_data = pd.read_excel(\"State-Individual-Income-Tax-Rates-and-Brackets-2015-2024_Tax_Foundation.xlsx\", sheet_name=None)\n",
    "state_dct ={\n",
    "    \"Ala.\":\"AL\",\n",
    "    \"Alaska\":\"AK\",\n",
    "    \"Ariz.\":\"AZ\",\n",
    "    \"Ark.\":\"AR\",\n",
    "    \"Calif.\":\"CA\",\n",
    "    \"Colo.\":\"CO\",\n",
    "    \"Conn.\":\"CT\",\n",
    "    \"Del.\":\"DE\",\n",
    "    \"Fla.\":\"FL\",\n",
    "    \"Ga.\":\"GA\",\n",
    "    \"Hawaii\":\"HI\",\n",
    "    \"Idaho\":\"ID\",\n",
    "    \"Ill.\":\"IL\",\n",
    "    \"Ind.\":\"IN\",\n",
    "    \"Iowa\":\"IA\",\n",
    "    \"Kans.\":\"KS\",\n",
    "    \"Ky.\":\"KY\",\n",
    "    \"La.\":\"LA\",\n",
    "    \"Maine\":\"ME\",\n",
    "    \"Md.\":\"MD\",\n",
    "    \"Mass.\":\"MA\",\n",
    "    \"Mich.\":\"MI\",\n",
    "    \"Minn.\":\"MN\",\n",
    "    \"Miss.\":\"MS\",\n",
    "    \"Mo.\":\"MO\",\n",
    "    \"Mont.\":\"MT\",\n",
    "    \"Nebr.\":\"NE\",\n",
    "    \"Nev.\":\"NV\",\n",
    "    \"N.H.\":\"NH\",\n",
    "    \"N.J.\":\"NJ\",\n",
    "    \"N.M.\":\"NM\",\n",
    "    \"N.Y.\":\"NY\",\n",
    "    \"N.C.\":\"NC\",\n",
    "    \"N.D.\":\"ND\",\n",
    "    \"Ohio\":\"OH\",\n",
    "    \"Okla.\":\"OK\",\n",
    "    \"Ore.\":\"OR\",\n",
    "    \"Pa.\":\"PA\",\n",
    "    \"R.I.\":\"RI\",\n",
    "    \"S.C.\":\"SC\",\n",
    "    \"S.D.\":\"SD\",\n",
    "    \"Tenn.\":\"TN\",\n",
    "    \"Texas\":\"TX\",\n",
    "    \"Utah\":\"UT\",\n",
    "    \"Vt.\":\"VT\",\n",
    "    \"Va.\":\"VA\",\n",
    "    \"Wash.\":\"WA\",\n",
    "    \"W.Va.\":\"WV\",\n",
    "    \"Wis.\":\"WI\",\n",
    "    \"Wyo.\":\"WY\",\n",
    "    \"D.C.\":\"DC\"\n",
    "    }\n",
    "\n",
    "state_dct2 = {\"Alabama\":\"AL\",\n",
    "              \"Alaska\":\"AK\", \n",
    "              \"Arizona\": \"AZ\",\n",
    "                \"Arkansas\":\"AR\",\n",
    "                \"California\":\"CA\",\n",
    "                \"Colorado\":\"CO\",\n",
    "                \"Connecticut\":\"CT\",\n",
    "                \"Delaware\":\"DE\",\n",
    "                \"Florida\":\"FL\",\n",
    "                \"Georgia\":\"GA\",\n",
    "                \"Hawaii\":\"HI\",\n",
    "                \"Idaho\":\"ID\",\n",
    "                \"Illinois\":\"IL\",\n",
    "                \"Indiana\":\"IN\",\n",
    "                \"Iowa\":\"IA\",\n",
    "                \"Kansas\":\"KS\",\n",
    "                \"Kentucky\":\"KY\",\n",
    "                \"Louisiana\":\"LA\",\n",
    "                \"Maine\":\"ME\",\n",
    "                \"Maryland\":\"MD\",\n",
    "                \"Massachusetts\":\"MA\",\n",
    "                \"Michigan\":\"MI\",\n",
    "                \"Minnesota\":\"MN\",\n",
    "                \"Mississippi\":\"MS\",\n",
    "                \"Missouri\":\"MO\",\n",
    "                \"Montana\":\"MT\",\n",
    "                \"Nebraska\":\"NE\",\n",
    "                \"Nevada\":\"NV\",\n",
    "                \"New Hampshire\":\"NH\",\n",
    "                \"New Jersey\":\"NJ\",\n",
    "                \"New Mexico\":\"NM\",\n",
    "                \"New York\":\"NY\",\n",
    "                \"North Carolina\":\"NC\",\n",
    "                \"North Dakota\":\"ND\",\n",
    "                \"Ohio\":\"OH\",\n",
    "                \"Oklahoma\":\"OK\",\n",
    "                \"Oregon\":\"OR\",\n",
    "                \"Pennsylvania\":\"PA\",\n",
    "                \"Rhode Island\":\"RI\",\n",
    "                \"South Carolina\":\"SC\",\n",
    "                \"South Dakota\":\"SD\",\n",
    "                \"Tennessee\":\"TN\",\n",
    "                \"Texas\":\"TX\",\n",
    "                \"Utah\":\"UT\",\n",
    "                \"Vermont\":\"VT\",\n",
    "                \"Virginia\":\"VA\",\n",
    "                \"Washington\":\"WA\",\n",
    "                \"West Virginia\":\"WV\",\n",
    "                \"Wisconsin\":\"WI\",\n",
    "                \"Wyoming\":\"WY\",\n",
    "                \"District of Columbia\":\"DC\"\n",
    "                }\n"
   ]
  },
  {
   "cell_type": "code",
   "execution_count": 2,
   "metadata": {},
   "outputs": [
    {
     "name": "stderr",
     "output_type": "stream",
     "text": [
      "/tmp/ipykernel_47334/2502699505.py:9: FutureWarning: Series.fillna with 'method' is deprecated and will raise in a future version. Use obj.ffill() or obj.bfill() instead.\n",
      "  tax_bracket_data[year][\"State\"] = tax_bracket_data[year][\"Unnamed: 0\"].map(state_dct).fillna(method='ffill')\n",
      "/tmp/ipykernel_47334/2502699505.py:9: FutureWarning: Series.fillna with 'method' is deprecated and will raise in a future version. Use obj.ffill() or obj.bfill() instead.\n",
      "  tax_bracket_data[year][\"State\"] = tax_bracket_data[year][\"Unnamed: 0\"].map(state_dct).fillna(method='ffill')\n",
      "/tmp/ipykernel_47334/2502699505.py:9: FutureWarning: Series.fillna with 'method' is deprecated and will raise in a future version. Use obj.ffill() or obj.bfill() instead.\n",
      "  tax_bracket_data[year][\"State\"] = tax_bracket_data[year][\"Unnamed: 0\"].map(state_dct).fillna(method='ffill')\n",
      "/tmp/ipykernel_47334/2502699505.py:9: FutureWarning: Series.fillna with 'method' is deprecated and will raise in a future version. Use obj.ffill() or obj.bfill() instead.\n",
      "  tax_bracket_data[year][\"State\"] = tax_bracket_data[year][\"Unnamed: 0\"].map(state_dct).fillna(method='ffill')\n",
      "/tmp/ipykernel_47334/2502699505.py:9: FutureWarning: Series.fillna with 'method' is deprecated and will raise in a future version. Use obj.ffill() or obj.bfill() instead.\n",
      "  tax_bracket_data[year][\"State\"] = tax_bracket_data[year][\"Unnamed: 0\"].map(state_dct).fillna(method='ffill')\n",
      "/tmp/ipykernel_47334/2502699505.py:9: FutureWarning: Series.fillna with 'method' is deprecated and will raise in a future version. Use obj.ffill() or obj.bfill() instead.\n",
      "  tax_bracket_data[year][\"State\"] = tax_bracket_data[year][\"Unnamed: 0\"].map(state_dct).fillna(method='ffill')\n",
      "/tmp/ipykernel_47334/2502699505.py:9: FutureWarning: Series.fillna with 'method' is deprecated and will raise in a future version. Use obj.ffill() or obj.bfill() instead.\n",
      "  tax_bracket_data[year][\"State\"] = tax_bracket_data[year][\"Unnamed: 0\"].map(state_dct).fillna(method='ffill')\n",
      "/tmp/ipykernel_47334/2502699505.py:9: FutureWarning: Series.fillna with 'method' is deprecated and will raise in a future version. Use obj.ffill() or obj.bfill() instead.\n",
      "  tax_bracket_data[year][\"State\"] = tax_bracket_data[year][\"Unnamed: 0\"].map(state_dct).fillna(method='ffill')\n",
      "/tmp/ipykernel_47334/2502699505.py:9: FutureWarning: Series.fillna with 'method' is deprecated and will raise in a future version. Use obj.ffill() or obj.bfill() instead.\n",
      "  tax_bracket_data[year][\"State\"] = tax_bracket_data[year][\"Unnamed: 0\"].map(state_dct).fillna(method='ffill')\n",
      "/tmp/ipykernel_47334/2502699505.py:9: FutureWarning: Series.fillna with 'method' is deprecated and will raise in a future version. Use obj.ffill() or obj.bfill() instead.\n",
      "  tax_bracket_data[year][\"State\"] = tax_bracket_data[year][\"Unnamed: 0\"].map(state_dct).fillna(method='ffill')\n"
     ]
    }
   ],
   "source": [
    "min_max_dct = {\"Min\":{},\n",
    "               \"Max\":{}}\n",
    "single_married = [\"Single Filer\",\"Married Filing Jointly\"]\n",
    "min_max_dct = {min_max: {sm: {year: {} for year in tax_bracket_data.keys()} for sm in single_married} for min_max in (\"Min\",\"Max\")}\n",
    "\n",
    "\n",
    "for year in tax_bracket_data.keys():\n",
    "    tax_bracket_data[year] = tax_bracket_data[year].iloc[1:]\n",
    "    tax_bracket_data[year][\"State\"] = tax_bracket_data[year][\"Unnamed: 0\"].map(state_dct).fillna(method='ffill')\n",
    "    for sm in single_married:\n",
    "        tax_bracket_data[year][sm] = pd.to_numeric(tax_bracket_data[year][sm], errors =  \"coerce\")\n",
    "       \n",
    "        for min_max in (\"min\",\"max\"):\n",
    "            min_max_data = tax_bracket_data[year][[\"State\", sm]]\n",
    "            min_max_dct[min_max.title()][sm][year] = getattr(min_max_data.groupby(\"State\"), min_max)()[sm]\n"
   ]
  },
  {
   "cell_type": "code",
   "execution_count": 4,
   "metadata": {},
   "outputs": [],
   "source": [
    "min_max_dfs = {}\n",
    "for sm in single_married:\n",
    "    min_max_dfs[sm] = {}\n",
    "    for min_max in (\"min\", \"max\"):\n",
    "        min_max_dfs[sm][min_max] = pd.DataFrame(min_max_dct[min_max.title()][sm])\n",
    "    min_max_dfs[sm] = pd.concat(min_max_dfs[sm].values(), keys = min_max_dfs[sm].keys()).reset_index()\n",
    "    min_max_dfs[sm] = min_max_dfs[sm].rename(columns = {\"level_0\":\"minmax\"}).set_index([\"State\", \"minmax\"]).sort_index().sort_index(axis=1)\n",
    "    min_max_dfs[sm] = min_max_dfs[sm].reset_index().melt(id_vars = [\"State\", \"minmax\"], var_name = \"Year\", value_name = \"Income Tax Rate\")\n",
    "    \n"
   ]
  },
  {
   "cell_type": "code",
   "execution_count": 13,
   "metadata": {},
   "outputs": [
    {
     "data": {
      "text/html": [
       "<div>\n",
       "<style scoped>\n",
       "    .dataframe tbody tr th:only-of-type {\n",
       "        vertical-align: middle;\n",
       "    }\n",
       "\n",
       "    .dataframe tbody tr th {\n",
       "        vertical-align: top;\n",
       "    }\n",
       "\n",
       "    .dataframe thead th {\n",
       "        text-align: right;\n",
       "    }\n",
       "</style>\n",
       "<table border=\"1\" class=\"dataframe\">\n",
       "  <thead>\n",
       "    <tr style=\"text-align: right;\">\n",
       "      <th></th>\n",
       "      <th>Unnamed: 0</th>\n",
       "      <th>Single Filer</th>\n",
       "      <th>Unnamed: 2</th>\n",
       "      <th>Unnamed: 3</th>\n",
       "      <th>Married Filing Jointly</th>\n",
       "      <th>Unnamed: 5</th>\n",
       "      <th>Unnamed: 6</th>\n",
       "      <th>Standard Deduction</th>\n",
       "      <th>Unnamed: 8</th>\n",
       "      <th>Personal Exemption</th>\n",
       "      <th>Unnamed: 10</th>\n",
       "      <th>Unnamed: 11</th>\n",
       "      <th>State</th>\n",
       "    </tr>\n",
       "  </thead>\n",
       "  <tbody>\n",
       "    <tr>\n",
       "      <th>1</th>\n",
       "      <td>Ala.</td>\n",
       "      <td>0.02</td>\n",
       "      <td>&gt;</td>\n",
       "      <td>0</td>\n",
       "      <td>0.02</td>\n",
       "      <td>&gt;</td>\n",
       "      <td>0</td>\n",
       "      <td>2500</td>\n",
       "      <td>7500</td>\n",
       "      <td>1500</td>\n",
       "      <td>3000</td>\n",
       "      <td>1000</td>\n",
       "      <td>AL</td>\n",
       "    </tr>\n",
       "    <tr>\n",
       "      <th>2</th>\n",
       "      <td>(b, f, gg)</td>\n",
       "      <td>0.04</td>\n",
       "      <td>&gt;</td>\n",
       "      <td>500</td>\n",
       "      <td>0.04</td>\n",
       "      <td>&gt;</td>\n",
       "      <td>1000</td>\n",
       "      <td>NaN</td>\n",
       "      <td>NaN</td>\n",
       "      <td>NaN</td>\n",
       "      <td>NaN</td>\n",
       "      <td>NaN</td>\n",
       "      <td>AL</td>\n",
       "    </tr>\n",
       "    <tr>\n",
       "      <th>3</th>\n",
       "      <td>NaN</td>\n",
       "      <td>0.05</td>\n",
       "      <td>&gt;</td>\n",
       "      <td>3000</td>\n",
       "      <td>0.05</td>\n",
       "      <td>&gt;</td>\n",
       "      <td>6000</td>\n",
       "      <td>NaN</td>\n",
       "      <td>NaN</td>\n",
       "      <td>NaN</td>\n",
       "      <td>NaN</td>\n",
       "      <td>NaN</td>\n",
       "      <td>AL</td>\n",
       "    </tr>\n",
       "    <tr>\n",
       "      <th>4</th>\n",
       "      <td>NaN</td>\n",
       "      <td>NaN</td>\n",
       "      <td>NaN</td>\n",
       "      <td>NaN</td>\n",
       "      <td>NaN</td>\n",
       "      <td>NaN</td>\n",
       "      <td>NaN</td>\n",
       "      <td>NaN</td>\n",
       "      <td>NaN</td>\n",
       "      <td>NaN</td>\n",
       "      <td>NaN</td>\n",
       "      <td>NaN</td>\n",
       "      <td>AL</td>\n",
       "    </tr>\n",
       "    <tr>\n",
       "      <th>5</th>\n",
       "      <td>Alaska</td>\n",
       "      <td>NaN</td>\n",
       "      <td>NaN</td>\n",
       "      <td>NaN</td>\n",
       "      <td>NaN</td>\n",
       "      <td>NaN</td>\n",
       "      <td>NaN</td>\n",
       "      <td>n.a.</td>\n",
       "      <td>n.a.</td>\n",
       "      <td>n.a.</td>\n",
       "      <td>n.a.</td>\n",
       "      <td>n.a.</td>\n",
       "      <td>AK</td>\n",
       "    </tr>\n",
       "    <tr>\n",
       "      <th>...</th>\n",
       "      <td>...</td>\n",
       "      <td>...</td>\n",
       "      <td>...</td>\n",
       "      <td>...</td>\n",
       "      <td>...</td>\n",
       "      <td>...</td>\n",
       "      <td>...</td>\n",
       "      <td>...</td>\n",
       "      <td>...</td>\n",
       "      <td>...</td>\n",
       "      <td>...</td>\n",
       "      <td>...</td>\n",
       "      <td>...</td>\n",
       "    </tr>\n",
       "    <tr>\n",
       "      <th>290</th>\n",
       "      <td>(ff) Rates include the additional tax at the r...</td>\n",
       "      <td>NaN</td>\n",
       "      <td>NaN</td>\n",
       "      <td>NaN</td>\n",
       "      <td>NaN</td>\n",
       "      <td>NaN</td>\n",
       "      <td>NaN</td>\n",
       "      <td>NaN</td>\n",
       "      <td>NaN</td>\n",
       "      <td>NaN</td>\n",
       "      <td>NaN</td>\n",
       "      <td>NaN</td>\n",
       "      <td>DC</td>\n",
       "    </tr>\n",
       "    <tr>\n",
       "      <th>291</th>\n",
       "      <td>(gg) Local income taxes are excluded. Eleven s...</td>\n",
       "      <td>NaN</td>\n",
       "      <td>NaN</td>\n",
       "      <td>NaN</td>\n",
       "      <td>NaN</td>\n",
       "      <td>NaN</td>\n",
       "      <td>NaN</td>\n",
       "      <td>NaN</td>\n",
       "      <td>NaN</td>\n",
       "      <td>NaN</td>\n",
       "      <td>NaN</td>\n",
       "      <td>NaN</td>\n",
       "      <td>DC</td>\n",
       "    </tr>\n",
       "    <tr>\n",
       "      <th>292</th>\n",
       "      <td>(hh) State provides a state-defined personal e...</td>\n",
       "      <td>NaN</td>\n",
       "      <td>NaN</td>\n",
       "      <td>NaN</td>\n",
       "      <td>NaN</td>\n",
       "      <td>NaN</td>\n",
       "      <td>NaN</td>\n",
       "      <td>NaN</td>\n",
       "      <td>NaN</td>\n",
       "      <td>NaN</td>\n",
       "      <td>NaN</td>\n",
       "      <td>NaN</td>\n",
       "      <td>DC</td>\n",
       "    </tr>\n",
       "    <tr>\n",
       "      <th>293</th>\n",
       "      <td>(ii) Standard deduction adjusted each year for...</td>\n",
       "      <td>NaN</td>\n",
       "      <td>NaN</td>\n",
       "      <td>NaN</td>\n",
       "      <td>NaN</td>\n",
       "      <td>NaN</td>\n",
       "      <td>NaN</td>\n",
       "      <td>NaN</td>\n",
       "      <td>NaN</td>\n",
       "      <td>NaN</td>\n",
       "      <td>NaN</td>\n",
       "      <td>NaN</td>\n",
       "      <td>DC</td>\n",
       "    </tr>\n",
       "    <tr>\n",
       "      <th>294</th>\n",
       "      <td>(jj) For the applicable tax year, a revenue su...</td>\n",
       "      <td>NaN</td>\n",
       "      <td>NaN</td>\n",
       "      <td>NaN</td>\n",
       "      <td>NaN</td>\n",
       "      <td>NaN</td>\n",
       "      <td>NaN</td>\n",
       "      <td>NaN</td>\n",
       "      <td>NaN</td>\n",
       "      <td>NaN</td>\n",
       "      <td>NaN</td>\n",
       "      <td>NaN</td>\n",
       "      <td>DC</td>\n",
       "    </tr>\n",
       "  </tbody>\n",
       "</table>\n",
       "<p>294 rows × 13 columns</p>\n",
       "</div>"
      ],
      "text/plain": [
       "                                            Unnamed: 0  Single Filer  \\\n",
       "1                                                 Ala.          0.02   \n",
       "2                                           (b, f, gg)          0.04   \n",
       "3                                                  NaN          0.05   \n",
       "4                                                  NaN           NaN   \n",
       "5                                               Alaska           NaN   \n",
       "..                                                 ...           ...   \n",
       "290  (ff) Rates include the additional tax at the r...           NaN   \n",
       "291  (gg) Local income taxes are excluded. Eleven s...           NaN   \n",
       "292  (hh) State provides a state-defined personal e...           NaN   \n",
       "293  (ii) Standard deduction adjusted each year for...           NaN   \n",
       "294  (jj) For the applicable tax year, a revenue su...           NaN   \n",
       "\n",
       "    Unnamed: 2 Unnamed: 3  Married Filing Jointly Unnamed: 5 Unnamed: 6  \\\n",
       "1            >          0                    0.02          >          0   \n",
       "2            >        500                    0.04          >       1000   \n",
       "3            >       3000                    0.05          >       6000   \n",
       "4          NaN        NaN                     NaN        NaN        NaN   \n",
       "5          NaN        NaN                     NaN        NaN        NaN   \n",
       "..         ...        ...                     ...        ...        ...   \n",
       "290        NaN        NaN                     NaN        NaN        NaN   \n",
       "291        NaN        NaN                     NaN        NaN        NaN   \n",
       "292        NaN        NaN                     NaN        NaN        NaN   \n",
       "293        NaN        NaN                     NaN        NaN        NaN   \n",
       "294        NaN        NaN                     NaN        NaN        NaN   \n",
       "\n",
       "    Standard Deduction Unnamed: 8 Personal Exemption Unnamed: 10 Unnamed: 11  \\\n",
       "1                 2500       7500               1500        3000        1000   \n",
       "2                  NaN        NaN                NaN         NaN         NaN   \n",
       "3                  NaN        NaN                NaN         NaN         NaN   \n",
       "4                  NaN        NaN                NaN         NaN         NaN   \n",
       "5                 n.a.       n.a.               n.a.        n.a.        n.a.   \n",
       "..                 ...        ...                ...         ...         ...   \n",
       "290                NaN        NaN                NaN         NaN         NaN   \n",
       "291                NaN        NaN                NaN         NaN         NaN   \n",
       "292                NaN        NaN                NaN         NaN         NaN   \n",
       "293                NaN        NaN                NaN         NaN         NaN   \n",
       "294                NaN        NaN                NaN         NaN         NaN   \n",
       "\n",
       "    State  \n",
       "1      AL  \n",
       "2      AL  \n",
       "3      AL  \n",
       "4      AL  \n",
       "5      AK  \n",
       "..    ...  \n",
       "290    DC  \n",
       "291    DC  \n",
       "292    DC  \n",
       "293    DC  \n",
       "294    DC  \n",
       "\n",
       "[294 rows x 13 columns]"
      ]
     },
     "execution_count": 13,
     "metadata": {},
     "output_type": "execute_result"
    }
   ],
   "source": [
    "min_max_dfs[sm].set_index([\"State\", \"Year\"]).loc[\"MN\"]\n",
    "tax_bracket_data[\"2024\"]"
   ]
  },
  {
   "cell_type": "code",
   "execution_count": 4,
   "metadata": {},
   "outputs": [],
   "source": [
    "from homebrewedFunctions.functions import *\n",
    "import plotly.express as px\n",
    "regions_df = pd.read_csv(\"USCensusRegions.csv\")\n",
    "dfs = {}\n",
    "# for min_max in (\"Min\", \"Max\"):\n",
    "for sm in single_married:\n",
    "    dfs[sm] = min_max_dfs[sm].pivot(index = [\"State\", \"Year\"], columns = \"minmax\", values = \"Income Tax Rate\").dropna().reset_index()\n",
    "    dfs[sm][\"Year\"] = pd.to_datetime(dfs[sm][\"Year\"], format = \"%Y\")\n",
    "    dfs[sm].sort_values(by = \"Year\", inplace = True)\n",
    "    dfs[sm][\"Year\"] = dfs[sm][\"Year\"].dt.year.astype(str)\n",
    "    dfs[sm].set_index([\"State\", \"Year\"], inplace = True)\n",
    "    dfs[sm].sort_index()\n",
    "figs = aggregated_line_dropdown(dfs, regions_df, f\"TaxBrackets\")\n",
    "figs.write_html(f\"outputs/State government finances/TaxBrackets.html\")\n",
    "\n",
    "\n",
    "# figs = {}\n",
    "#     for state in df[\"State\"].unique():\n",
    "#         fig = px.line(df[df[\"State\"]] == state],\n",
    "#         x=\"Year\", \n",
    "#         y=\"Income Tax Rate\",\n",
    "#         color=\"State\",\n",
    "#         facet_col=\"minmax\")\n",
    "\n"
   ]
  },
  {
   "cell_type": "code",
   "execution_count": 93,
   "metadata": {},
   "outputs": [],
   "source": [
    "import re\n",
    "import numpy as np\n",
    "def remove_parentheses_content(input_string):\n",
    "    # This pattern removes the first occurrence of any content inside parentheses\n",
    "    return re.sub(r'\\(.*?\\)', '', input_string)\n",
    "IITR = pd.read_csv(\"2024 State Income Tax Rates and Brackets  Tax Foundation.csv\")\n",
    "IITR[\"State\"] = IITR[\"State\"].apply(remove_parentheses_content)\n",
    "IITR[\"State\"] = IITR[\"State\"].str.strip()\n",
    "IITR[\"State\"] = IITR[\"State\"].map(state_dct2)\n",
    "IITR[\"index\"] = np.arange(len(IITR))\n",
    "IITR = IITR.set_index([\"State\", \"index\"]).rename(columns = {\"Single Filer Rates\": \"Single\", \"Married Filing Jointly Rates\": \"Married\"})[[\"Single\", \"Married\"]]\n",
    "for key, val in IITR.items():\n",
    "    IITR[key] = val.str.replace(\"%\", \"\").str.replace(\"none\", \"0\")\n",
    "    IITR[key] = pd.to_numeric(IITR[key], errors = \"coerce\").fillna(0)\n",
    "\n",
    "min_IITR = IITR.reset_index().set_index([\"State\", \"index\"]).groupby(\"State\").min()\n",
    "max_IITR = IITR.reset_index().set_index([\"State\", \"index\"]).groupby(\"State\").max()\n",
    "\n",
    "# IITR = pd.DataFrame(max_CITR)#, columns = [\"Corporate Income Tax Rate\"]).reset_index()\n",
    "# IITR=IITR.reset_index().sort_values(by=\"Rates\", ascending = False)\n",
    "# IITR"
   ]
  },
  {
   "cell_type": "code",
   "execution_count": 108,
   "metadata": {},
   "outputs": [
    {
     "data": {
      "text/html": [
       "<div>\n",
       "<style scoped>\n",
       "    .dataframe tbody tr th:only-of-type {\n",
       "        vertical-align: middle;\n",
       "    }\n",
       "\n",
       "    .dataframe tbody tr th {\n",
       "        vertical-align: top;\n",
       "    }\n",
       "\n",
       "    .dataframe thead th {\n",
       "        text-align: right;\n",
       "    }\n",
       "</style>\n",
       "<table border=\"1\" class=\"dataframe\">\n",
       "  <thead>\n",
       "    <tr style=\"text-align: right;\">\n",
       "      <th></th>\n",
       "      <th>Rates</th>\n",
       "    </tr>\n",
       "    <tr>\n",
       "      <th>State</th>\n",
       "      <th></th>\n",
       "    </tr>\n",
       "  </thead>\n",
       "  <tbody>\n",
       "    <tr>\n",
       "      <th>MN</th>\n",
       "      <td>9.80</td>\n",
       "    </tr>\n",
       "    <tr>\n",
       "      <th>AK</th>\n",
       "      <td>9.40</td>\n",
       "    </tr>\n",
       "    <tr>\n",
       "      <th>ME</th>\n",
       "      <td>8.93</td>\n",
       "    </tr>\n",
       "    <tr>\n",
       "      <th>CA</th>\n",
       "      <td>8.84</td>\n",
       "    </tr>\n",
       "    <tr>\n",
       "      <th>VT</th>\n",
       "      <td>8.50</td>\n",
       "    </tr>\n",
       "    <tr>\n",
       "      <th>PA</th>\n",
       "      <td>8.49</td>\n",
       "    </tr>\n",
       "    <tr>\n",
       "      <th>MD</th>\n",
       "      <td>8.25</td>\n",
       "    </tr>\n",
       "    <tr>\n",
       "      <th>MA</th>\n",
       "      <td>8.00</td>\n",
       "    </tr>\n",
       "    <tr>\n",
       "      <th>WI</th>\n",
       "      <td>7.90</td>\n",
       "    </tr>\n",
       "    <tr>\n",
       "      <th>NH</th>\n",
       "      <td>7.50</td>\n",
       "    </tr>\n",
       "    <tr>\n",
       "      <th>LA</th>\n",
       "      <td>7.50</td>\n",
       "    </tr>\n",
       "    <tr>\n",
       "      <th>NY</th>\n",
       "      <td>7.25</td>\n",
       "    </tr>\n",
       "    <tr>\n",
       "      <th>IA</th>\n",
       "      <td>7.10</td>\n",
       "    </tr>\n",
       "    <tr>\n",
       "      <th>RI</th>\n",
       "      <td>7.00</td>\n",
       "    </tr>\n",
       "    <tr>\n",
       "      <th>MT</th>\n",
       "      <td>6.75</td>\n",
       "    </tr>\n",
       "    <tr>\n",
       "      <th>AL</th>\n",
       "      <td>6.50</td>\n",
       "    </tr>\n",
       "    <tr>\n",
       "      <th>WV</th>\n",
       "      <td>6.50</td>\n",
       "    </tr>\n",
       "    <tr>\n",
       "      <th>KS</th>\n",
       "      <td>6.50</td>\n",
       "    </tr>\n",
       "    <tr>\n",
       "      <th>HI</th>\n",
       "      <td>6.40</td>\n",
       "    </tr>\n",
       "    <tr>\n",
       "      <th>MI</th>\n",
       "      <td>6.00</td>\n",
       "    </tr>\n",
       "    <tr>\n",
       "      <th>VA</th>\n",
       "      <td>6.00</td>\n",
       "    </tr>\n",
       "    <tr>\n",
       "      <th>NM</th>\n",
       "      <td>5.90</td>\n",
       "    </tr>\n",
       "    <tr>\n",
       "      <th>NE</th>\n",
       "      <td>5.84</td>\n",
       "    </tr>\n",
       "    <tr>\n",
       "      <th>ID</th>\n",
       "      <td>5.80</td>\n",
       "    </tr>\n",
       "    <tr>\n",
       "      <th>FL</th>\n",
       "      <td>5.50</td>\n",
       "    </tr>\n",
       "    <tr>\n",
       "      <th>MS</th>\n",
       "      <td>5.00</td>\n",
       "    </tr>\n",
       "    <tr>\n",
       "      <th>KY</th>\n",
       "      <td>5.00</td>\n",
       "    </tr>\n",
       "    <tr>\n",
       "      <th>SC</th>\n",
       "      <td>5.00</td>\n",
       "    </tr>\n",
       "    <tr>\n",
       "      <th>AZ</th>\n",
       "      <td>4.90</td>\n",
       "    </tr>\n",
       "    <tr>\n",
       "      <th>IN</th>\n",
       "      <td>4.90</td>\n",
       "    </tr>\n",
       "    <tr>\n",
       "      <th>AR</th>\n",
       "      <td>4.80</td>\n",
       "    </tr>\n",
       "    <tr>\n",
       "      <th>UT</th>\n",
       "      <td>4.65</td>\n",
       "    </tr>\n",
       "    <tr>\n",
       "      <th>CO</th>\n",
       "      <td>4.40</td>\n",
       "    </tr>\n",
       "    <tr>\n",
       "      <th>ND</th>\n",
       "      <td>4.31</td>\n",
       "    </tr>\n",
       "    <tr>\n",
       "      <th>OK</th>\n",
       "      <td>4.00</td>\n",
       "    </tr>\n",
       "    <tr>\n",
       "      <th>MO</th>\n",
       "      <td>4.00</td>\n",
       "    </tr>\n",
       "    <tr>\n",
       "      <th>NC</th>\n",
       "      <td>2.50</td>\n",
       "    </tr>\n",
       "    <tr>\n",
       "      <th>NV</th>\n",
       "      <td>0.00</td>\n",
       "    </tr>\n",
       "    <tr>\n",
       "      <th>OH</th>\n",
       "      <td>0.00</td>\n",
       "    </tr>\n",
       "    <tr>\n",
       "      <th>SD</th>\n",
       "      <td>0.00</td>\n",
       "    </tr>\n",
       "    <tr>\n",
       "      <th>TX</th>\n",
       "      <td>0.00</td>\n",
       "    </tr>\n",
       "    <tr>\n",
       "      <th>WA</th>\n",
       "      <td>0.00</td>\n",
       "    </tr>\n",
       "    <tr>\n",
       "      <th>WY</th>\n",
       "      <td>0.00</td>\n",
       "    </tr>\n",
       "  </tbody>\n",
       "</table>\n",
       "</div>"
      ],
      "text/plain": [
       "       Rates\n",
       "State       \n",
       "MN      9.80\n",
       "AK      9.40\n",
       "ME      8.93\n",
       "CA      8.84\n",
       "VT      8.50\n",
       "PA      8.49\n",
       "MD      8.25\n",
       "MA      8.00\n",
       "WI      7.90\n",
       "NH      7.50\n",
       "LA      7.50\n",
       "NY      7.25\n",
       "IA      7.10\n",
       "RI      7.00\n",
       "MT      6.75\n",
       "AL      6.50\n",
       "WV      6.50\n",
       "KS      6.50\n",
       "HI      6.40\n",
       "MI      6.00\n",
       "VA      6.00\n",
       "NM      5.90\n",
       "NE      5.84\n",
       "ID      5.80\n",
       "FL      5.50\n",
       "MS      5.00\n",
       "KY      5.00\n",
       "SC      5.00\n",
       "AZ      4.90\n",
       "IN      4.90\n",
       "AR      4.80\n",
       "UT      4.65\n",
       "CO      4.40\n",
       "ND      4.31\n",
       "OK      4.00\n",
       "MO      4.00\n",
       "NC      2.50\n",
       "NV      0.00\n",
       "OH      0.00\n",
       "SD      0.00\n",
       "TX      0.00\n",
       "WA      0.00\n",
       "WY      0.00"
      ]
     },
     "execution_count": 108,
     "metadata": {},
     "output_type": "execute_result"
    }
   ],
   "source": [
    "CITR = pd.read_csv(\"2024 State Corporate Income Tax Rates  Brackets.csv\")\n",
    "CITR[\"State\"] = CITR[\"State\"].map(state_dct2).str.strip()\n",
    "CITR[\"Rates\"] = CITR[\"Rates\"].str.replace(\"%\", \"\").astype(float).div(100)\n",
    "min_CITR = CITR.groupby(\"State\")[\"Rates\"].min()\n",
    "max_CITR = CITR.groupby(\"State\")[\"Rates\"].max()\n",
    "# CITR = pd.concat([min_CITR, max_CITR], keys = [\"Min\", \"Max\"]).reset_index()\n",
    "# CITR = CITR.rename(columns = {\"level_0\":\"minmax\"}).set_index([\"State\", \"minmax\"]).sort_index().sort_index(axis=1)\n",
    "# CITR = CITR.reset_index().melt(id_vars = [\"State\", \"minmax\"], var_name = \"Year\", value_name = \"Corporate Income Tax Rate\")\n",
    "CITR = pd.DataFrame(max_CITR)#, columns = [\"Corporate Income Tax Rate\"]).reset_index()\n",
    "CITR=CITR.reset_index().sort_values(by=\"Rates\", ascending = False)\n",
    "CITR[\"Rates\"] = CITR[\"Rates\"].fillna(0).mul(100)\n",
    "CITR.set_index(\"State\", inplace = True)\n",
    "CITR"
   ]
  },
  {
   "cell_type": "code",
   "execution_count": 109,
   "metadata": {},
   "outputs": [
    {
     "data": {
      "text/html": [
       "<div>\n",
       "<style scoped>\n",
       "    .dataframe tbody tr th:only-of-type {\n",
       "        vertical-align: middle;\n",
       "    }\n",
       "\n",
       "    .dataframe tbody tr th {\n",
       "        vertical-align: top;\n",
       "    }\n",
       "\n",
       "    .dataframe thead th {\n",
       "        text-align: right;\n",
       "    }\n",
       "</style>\n",
       "<table border=\"1\" class=\"dataframe\">\n",
       "  <thead>\n",
       "    <tr style=\"text-align: right;\">\n",
       "      <th></th>\n",
       "      <th>Single</th>\n",
       "      <th>Married</th>\n",
       "      <th>Corporate</th>\n",
       "    </tr>\n",
       "    <tr>\n",
       "      <th>State</th>\n",
       "      <th></th>\n",
       "      <th></th>\n",
       "      <th></th>\n",
       "    </tr>\n",
       "  </thead>\n",
       "  <tbody>\n",
       "    <tr>\n",
       "      <th>MN</th>\n",
       "      <td>9.85</td>\n",
       "      <td>9.85</td>\n",
       "      <td>9.80</td>\n",
       "    </tr>\n",
       "    <tr>\n",
       "      <th>AK</th>\n",
       "      <td>0.00</td>\n",
       "      <td>0.00</td>\n",
       "      <td>9.40</td>\n",
       "    </tr>\n",
       "    <tr>\n",
       "      <th>ME</th>\n",
       "      <td>7.15</td>\n",
       "      <td>7.15</td>\n",
       "      <td>8.93</td>\n",
       "    </tr>\n",
       "    <tr>\n",
       "      <th>CA</th>\n",
       "      <td>13.30</td>\n",
       "      <td>13.30</td>\n",
       "      <td>8.84</td>\n",
       "    </tr>\n",
       "    <tr>\n",
       "      <th>VT</th>\n",
       "      <td>8.75</td>\n",
       "      <td>8.75</td>\n",
       "      <td>8.50</td>\n",
       "    </tr>\n",
       "    <tr>\n",
       "      <th>PA</th>\n",
       "      <td>3.07</td>\n",
       "      <td>3.07</td>\n",
       "      <td>8.49</td>\n",
       "    </tr>\n",
       "    <tr>\n",
       "      <th>MD</th>\n",
       "      <td>5.75</td>\n",
       "      <td>5.75</td>\n",
       "      <td>8.25</td>\n",
       "    </tr>\n",
       "    <tr>\n",
       "      <th>MA</th>\n",
       "      <td>9.00</td>\n",
       "      <td>9.00</td>\n",
       "      <td>8.00</td>\n",
       "    </tr>\n",
       "    <tr>\n",
       "      <th>WI</th>\n",
       "      <td>7.65</td>\n",
       "      <td>7.65</td>\n",
       "      <td>7.90</td>\n",
       "    </tr>\n",
       "    <tr>\n",
       "      <th>NH</th>\n",
       "      <td>0.00</td>\n",
       "      <td>0.00</td>\n",
       "      <td>7.50</td>\n",
       "    </tr>\n",
       "    <tr>\n",
       "      <th>LA</th>\n",
       "      <td>4.25</td>\n",
       "      <td>4.25</td>\n",
       "      <td>7.50</td>\n",
       "    </tr>\n",
       "    <tr>\n",
       "      <th>NY</th>\n",
       "      <td>10.90</td>\n",
       "      <td>10.90</td>\n",
       "      <td>7.25</td>\n",
       "    </tr>\n",
       "    <tr>\n",
       "      <th>IA</th>\n",
       "      <td>5.70</td>\n",
       "      <td>5.70</td>\n",
       "      <td>7.10</td>\n",
       "    </tr>\n",
       "    <tr>\n",
       "      <th>RI</th>\n",
       "      <td>5.99</td>\n",
       "      <td>5.99</td>\n",
       "      <td>7.00</td>\n",
       "    </tr>\n",
       "    <tr>\n",
       "      <th>MT</th>\n",
       "      <td>5.90</td>\n",
       "      <td>5.90</td>\n",
       "      <td>6.75</td>\n",
       "    </tr>\n",
       "    <tr>\n",
       "      <th>AL</th>\n",
       "      <td>5.00</td>\n",
       "      <td>5.00</td>\n",
       "      <td>6.50</td>\n",
       "    </tr>\n",
       "    <tr>\n",
       "      <th>KS</th>\n",
       "      <td>5.70</td>\n",
       "      <td>5.70</td>\n",
       "      <td>6.50</td>\n",
       "    </tr>\n",
       "    <tr>\n",
       "      <th>WV</th>\n",
       "      <td>5.12</td>\n",
       "      <td>5.12</td>\n",
       "      <td>6.50</td>\n",
       "    </tr>\n",
       "    <tr>\n",
       "      <th>HI</th>\n",
       "      <td>11.00</td>\n",
       "      <td>11.00</td>\n",
       "      <td>6.40</td>\n",
       "    </tr>\n",
       "    <tr>\n",
       "      <th>VA</th>\n",
       "      <td>5.75</td>\n",
       "      <td>5.75</td>\n",
       "      <td>6.00</td>\n",
       "    </tr>\n",
       "    <tr>\n",
       "      <th>MI</th>\n",
       "      <td>4.25</td>\n",
       "      <td>4.25</td>\n",
       "      <td>6.00</td>\n",
       "    </tr>\n",
       "    <tr>\n",
       "      <th>NM</th>\n",
       "      <td>5.90</td>\n",
       "      <td>5.90</td>\n",
       "      <td>5.90</td>\n",
       "    </tr>\n",
       "    <tr>\n",
       "      <th>NE</th>\n",
       "      <td>5.84</td>\n",
       "      <td>5.84</td>\n",
       "      <td>5.84</td>\n",
       "    </tr>\n",
       "    <tr>\n",
       "      <th>ID</th>\n",
       "      <td>5.80</td>\n",
       "      <td>5.80</td>\n",
       "      <td>5.80</td>\n",
       "    </tr>\n",
       "    <tr>\n",
       "      <th>FL</th>\n",
       "      <td>0.00</td>\n",
       "      <td>0.00</td>\n",
       "      <td>5.50</td>\n",
       "    </tr>\n",
       "    <tr>\n",
       "      <th>MS</th>\n",
       "      <td>4.70</td>\n",
       "      <td>4.70</td>\n",
       "      <td>5.00</td>\n",
       "    </tr>\n",
       "    <tr>\n",
       "      <th>SC</th>\n",
       "      <td>6.40</td>\n",
       "      <td>6.40</td>\n",
       "      <td>5.00</td>\n",
       "    </tr>\n",
       "    <tr>\n",
       "      <th>KY</th>\n",
       "      <td>4.00</td>\n",
       "      <td>4.00</td>\n",
       "      <td>5.00</td>\n",
       "    </tr>\n",
       "    <tr>\n",
       "      <th>AZ</th>\n",
       "      <td>2.50</td>\n",
       "      <td>2.50</td>\n",
       "      <td>4.90</td>\n",
       "    </tr>\n",
       "    <tr>\n",
       "      <th>IN</th>\n",
       "      <td>3.05</td>\n",
       "      <td>3.05</td>\n",
       "      <td>4.90</td>\n",
       "    </tr>\n",
       "    <tr>\n",
       "      <th>AR</th>\n",
       "      <td>4.40</td>\n",
       "      <td>4.40</td>\n",
       "      <td>4.80</td>\n",
       "    </tr>\n",
       "    <tr>\n",
       "      <th>UT</th>\n",
       "      <td>4.65</td>\n",
       "      <td>4.65</td>\n",
       "      <td>4.65</td>\n",
       "    </tr>\n",
       "    <tr>\n",
       "      <th>CO</th>\n",
       "      <td>4.40</td>\n",
       "      <td>4.40</td>\n",
       "      <td>4.40</td>\n",
       "    </tr>\n",
       "    <tr>\n",
       "      <th>ND</th>\n",
       "      <td>2.50</td>\n",
       "      <td>2.50</td>\n",
       "      <td>4.31</td>\n",
       "    </tr>\n",
       "    <tr>\n",
       "      <th>MO</th>\n",
       "      <td>4.80</td>\n",
       "      <td>4.80</td>\n",
       "      <td>4.00</td>\n",
       "    </tr>\n",
       "    <tr>\n",
       "      <th>OK</th>\n",
       "      <td>4.75</td>\n",
       "      <td>4.75</td>\n",
       "      <td>4.00</td>\n",
       "    </tr>\n",
       "    <tr>\n",
       "      <th>NC</th>\n",
       "      <td>4.50</td>\n",
       "      <td>4.50</td>\n",
       "      <td>2.50</td>\n",
       "    </tr>\n",
       "    <tr>\n",
       "      <th>WA</th>\n",
       "      <td>0.00</td>\n",
       "      <td>0.00</td>\n",
       "      <td>0.00</td>\n",
       "    </tr>\n",
       "    <tr>\n",
       "      <th>OH</th>\n",
       "      <td>3.50</td>\n",
       "      <td>3.50</td>\n",
       "      <td>0.00</td>\n",
       "    </tr>\n",
       "    <tr>\n",
       "      <th>TX</th>\n",
       "      <td>0.00</td>\n",
       "      <td>0.00</td>\n",
       "      <td>0.00</td>\n",
       "    </tr>\n",
       "    <tr>\n",
       "      <th>SD</th>\n",
       "      <td>0.00</td>\n",
       "      <td>0.00</td>\n",
       "      <td>0.00</td>\n",
       "    </tr>\n",
       "    <tr>\n",
       "      <th>NV</th>\n",
       "      <td>0.00</td>\n",
       "      <td>0.00</td>\n",
       "      <td>0.00</td>\n",
       "    </tr>\n",
       "    <tr>\n",
       "      <th>WY</th>\n",
       "      <td>0.00</td>\n",
       "      <td>0.00</td>\n",
       "      <td>0.00</td>\n",
       "    </tr>\n",
       "    <tr>\n",
       "      <th>CT</th>\n",
       "      <td>6.99</td>\n",
       "      <td>6.99</td>\n",
       "      <td>NaN</td>\n",
       "    </tr>\n",
       "    <tr>\n",
       "      <th>DE</th>\n",
       "      <td>6.60</td>\n",
       "      <td>6.60</td>\n",
       "      <td>NaN</td>\n",
       "    </tr>\n",
       "    <tr>\n",
       "      <th>GA</th>\n",
       "      <td>5.49</td>\n",
       "      <td>5.49</td>\n",
       "      <td>NaN</td>\n",
       "    </tr>\n",
       "    <tr>\n",
       "      <th>IL</th>\n",
       "      <td>4.95</td>\n",
       "      <td>4.95</td>\n",
       "      <td>NaN</td>\n",
       "    </tr>\n",
       "    <tr>\n",
       "      <th>NJ</th>\n",
       "      <td>10.75</td>\n",
       "      <td>10.75</td>\n",
       "      <td>NaN</td>\n",
       "    </tr>\n",
       "    <tr>\n",
       "      <th>OR</th>\n",
       "      <td>9.90</td>\n",
       "      <td>9.90</td>\n",
       "      <td>NaN</td>\n",
       "    </tr>\n",
       "    <tr>\n",
       "      <th>TN</th>\n",
       "      <td>0.00</td>\n",
       "      <td>0.00</td>\n",
       "      <td>NaN</td>\n",
       "    </tr>\n",
       "  </tbody>\n",
       "</table>\n",
       "</div>"
      ],
      "text/plain": [
       "       Single  Married  Corporate\n",
       "State                            \n",
       "MN       9.85     9.85       9.80\n",
       "AK       0.00     0.00       9.40\n",
       "ME       7.15     7.15       8.93\n",
       "CA      13.30    13.30       8.84\n",
       "VT       8.75     8.75       8.50\n",
       "PA       3.07     3.07       8.49\n",
       "MD       5.75     5.75       8.25\n",
       "MA       9.00     9.00       8.00\n",
       "WI       7.65     7.65       7.90\n",
       "NH       0.00     0.00       7.50\n",
       "LA       4.25     4.25       7.50\n",
       "NY      10.90    10.90       7.25\n",
       "IA       5.70     5.70       7.10\n",
       "RI       5.99     5.99       7.00\n",
       "MT       5.90     5.90       6.75\n",
       "AL       5.00     5.00       6.50\n",
       "KS       5.70     5.70       6.50\n",
       "WV       5.12     5.12       6.50\n",
       "HI      11.00    11.00       6.40\n",
       "VA       5.75     5.75       6.00\n",
       "MI       4.25     4.25       6.00\n",
       "NM       5.90     5.90       5.90\n",
       "NE       5.84     5.84       5.84\n",
       "ID       5.80     5.80       5.80\n",
       "FL       0.00     0.00       5.50\n",
       "MS       4.70     4.70       5.00\n",
       "SC       6.40     6.40       5.00\n",
       "KY       4.00     4.00       5.00\n",
       "AZ       2.50     2.50       4.90\n",
       "IN       3.05     3.05       4.90\n",
       "AR       4.40     4.40       4.80\n",
       "UT       4.65     4.65       4.65\n",
       "CO       4.40     4.40       4.40\n",
       "ND       2.50     2.50       4.31\n",
       "MO       4.80     4.80       4.00\n",
       "OK       4.75     4.75       4.00\n",
       "NC       4.50     4.50       2.50\n",
       "WA       0.00     0.00       0.00\n",
       "OH       3.50     3.50       0.00\n",
       "TX       0.00     0.00       0.00\n",
       "SD       0.00     0.00       0.00\n",
       "NV       0.00     0.00       0.00\n",
       "WY       0.00     0.00       0.00\n",
       "CT       6.99     6.99        NaN\n",
       "DE       6.60     6.60        NaN\n",
       "GA       5.49     5.49        NaN\n",
       "IL       4.95     4.95        NaN\n",
       "NJ      10.75    10.75        NaN\n",
       "OR       9.90     9.90        NaN\n",
       "TN       0.00     0.00        NaN"
      ]
     },
     "execution_count": 109,
     "metadata": {},
     "output_type": "execute_result"
    }
   ],
   "source": [
    "max_rates = max_IITR.copy()\n",
    "max_rates[\"Corporate\"] = CITR[\"Rates\"]\n",
    "max_rates.sort_values(by = \"Corporate\", ascending = False)"
   ]
  },
  {
   "cell_type": "code",
   "execution_count": 63,
   "metadata": {},
   "outputs": [],
   "source": [
    "fig = px.bar(CITR, x = \"State\", y = \"Rates\")\n",
    "fig.update_layout(title = \"2024 State Corporate Income Tax Rates<br>(Maximum Rate for States with Non-Uniform Schedule)\")\n",
    "fig.write_html(f\"outputs/State government finances/2024 State Corporate Income Tax Rates .html\")"
   ]
  },
  {
   "cell_type": "code",
   "execution_count": 111,
   "metadata": {},
   "outputs": [
    {
     "name": "stderr",
     "output_type": "stream",
     "text": [
      "/tmp/ipykernel_14654/2491761709.py:6: SettingWithCopyWarning:\n",
      "\n",
      "\n",
      "A value is trying to be set on a copy of a slice from a DataFrame\n",
      "\n",
      "See the caveats in the documentation: https://pandas.pydata.org/pandas-docs/stable/user_guide/indexing.html#returning-a-view-versus-a-copy\n",
      "\n"
     ]
    },
    {
     "data": {
      "application/vnd.plotly.v1+json": {
       "config": {
        "plotlyServerURL": "https://plot.ly"
       },
       "data": [
        {
         "alignmentgroup": "True",
         "hovertemplate": "Measure=Max<br>State=%{x}<br>Corporate Income Tax Rate=%{y}<extra></extra>",
         "legendgroup": "Max",
         "marker": {
          "color": "red",
          "pattern": {
           "shape": ""
          }
         },
         "name": "Max",
         "offsetgroup": "Max",
         "orientation": "v",
         "showlegend": true,
         "textposition": "auto",
         "type": "bar",
         "x": [
          "MN",
          "AK",
          "ME",
          "CA",
          "VT",
          "PA",
          "MD",
          "MA",
          "WI",
          "LA",
          "NH",
          "NY",
          "IA",
          "RI",
          "MT",
          "AL",
          "KS",
          "WV",
          "HI",
          "MI",
          "VA",
          "NM",
          "NE",
          "ID",
          "FL",
          "KY",
          "MS",
          "SC",
          "AZ",
          "IN",
          "AR",
          "UT",
          "CO",
          "ND",
          "MO",
          "OK",
          "NC",
          "NV",
          "OH",
          "SD",
          "TX",
          "WA",
          "WY"
         ],
         "xaxis": "x",
         "y": [
          0.098,
          0.094,
          0.08929999999999999,
          0.08839999999999999,
          0.085,
          0.0849,
          0.0825,
          0.08,
          0.079,
          0.075,
          0.075,
          0.0725,
          0.071,
          0.07,
          0.0675,
          0.065,
          0.065,
          0.065,
          0.064,
          0.06,
          0.06,
          0.059000000000000004,
          0.0584,
          0.057999999999999996,
          0.055,
          0.05,
          0.05,
          0.05,
          0.049,
          0.049,
          0.048,
          0.04650000000000001,
          0.044000000000000004,
          0.0431,
          0.04,
          0.04,
          0.025,
          0,
          0,
          0,
          0,
          0,
          0
         ],
         "yaxis": "y"
        },
        {
         "alignmentgroup": "True",
         "hovertemplate": "Measure=Min<br>State=%{x}<br>Corporate Income Tax Rate=%{y}<extra></extra>",
         "legendgroup": "Min",
         "marker": {
          "color": "blue",
          "pattern": {
           "shape": ""
          }
         },
         "name": "Min",
         "offsetgroup": "Min",
         "orientation": "v",
         "showlegend": true,
         "textposition": "auto",
         "type": "bar",
         "x": [
          "MN",
          "CA",
          "PA",
          "MD",
          "MA",
          "WI",
          "NH",
          "RI",
          "MT",
          "AL",
          "NY",
          "WV",
          "MI",
          "VA",
          "VT",
          "ID",
          "NE",
          "FL",
          "IA",
          "KY",
          "SC",
          "AZ",
          "IN",
          "NM",
          "UT",
          "CO",
          "HI",
          "MO",
          "MS",
          "OK",
          "KS",
          "LA",
          "ME",
          "NC",
          "ND",
          "AR",
          "AK",
          "NV",
          "OH",
          "SD",
          "TX",
          "WA",
          "WY"
         ],
         "xaxis": "x",
         "y": [
          0.098,
          0.08839999999999999,
          0.0849,
          0.0825,
          0.08,
          0.079,
          0.075,
          0.07,
          0.0675,
          0.065,
          0.065,
          0.065,
          0.06,
          0.06,
          0.06,
          0.057999999999999996,
          0.0558,
          0.055,
          0.055,
          0.05,
          0.05,
          0.049,
          0.049,
          0.048,
          0.04650000000000001,
          0.044000000000000004,
          0.044000000000000004,
          0.04,
          0.04,
          0.04,
          0.035,
          0.035,
          0.035,
          0.025,
          0.0141,
          0.01,
          0,
          0,
          0,
          0,
          0,
          0,
          0
         ],
         "yaxis": "y"
        }
       ],
       "layout": {
        "barmode": "group",
        "legend": {
         "title": {
          "text": "Measure"
         },
         "tracegroupgap": 0
        },
        "template": {
         "data": {
          "bar": [
           {
            "error_x": {
             "color": "#2a3f5f"
            },
            "error_y": {
             "color": "#2a3f5f"
            },
            "marker": {
             "line": {
              "color": "#E5ECF6",
              "width": 0.5
             },
             "pattern": {
              "fillmode": "overlay",
              "size": 10,
              "solidity": 0.2
             }
            },
            "type": "bar"
           }
          ],
          "barpolar": [
           {
            "marker": {
             "line": {
              "color": "#E5ECF6",
              "width": 0.5
             },
             "pattern": {
              "fillmode": "overlay",
              "size": 10,
              "solidity": 0.2
             }
            },
            "type": "barpolar"
           }
          ],
          "carpet": [
           {
            "aaxis": {
             "endlinecolor": "#2a3f5f",
             "gridcolor": "white",
             "linecolor": "white",
             "minorgridcolor": "white",
             "startlinecolor": "#2a3f5f"
            },
            "baxis": {
             "endlinecolor": "#2a3f5f",
             "gridcolor": "white",
             "linecolor": "white",
             "minorgridcolor": "white",
             "startlinecolor": "#2a3f5f"
            },
            "type": "carpet"
           }
          ],
          "choropleth": [
           {
            "colorbar": {
             "outlinewidth": 0,
             "ticks": ""
            },
            "type": "choropleth"
           }
          ],
          "contour": [
           {
            "colorbar": {
             "outlinewidth": 0,
             "ticks": ""
            },
            "colorscale": [
             [
              0,
              "#0d0887"
             ],
             [
              0.1111111111111111,
              "#46039f"
             ],
             [
              0.2222222222222222,
              "#7201a8"
             ],
             [
              0.3333333333333333,
              "#9c179e"
             ],
             [
              0.4444444444444444,
              "#bd3786"
             ],
             [
              0.5555555555555556,
              "#d8576b"
             ],
             [
              0.6666666666666666,
              "#ed7953"
             ],
             [
              0.7777777777777778,
              "#fb9f3a"
             ],
             [
              0.8888888888888888,
              "#fdca26"
             ],
             [
              1,
              "#f0f921"
             ]
            ],
            "type": "contour"
           }
          ],
          "contourcarpet": [
           {
            "colorbar": {
             "outlinewidth": 0,
             "ticks": ""
            },
            "type": "contourcarpet"
           }
          ],
          "heatmap": [
           {
            "colorbar": {
             "outlinewidth": 0,
             "ticks": ""
            },
            "colorscale": [
             [
              0,
              "#0d0887"
             ],
             [
              0.1111111111111111,
              "#46039f"
             ],
             [
              0.2222222222222222,
              "#7201a8"
             ],
             [
              0.3333333333333333,
              "#9c179e"
             ],
             [
              0.4444444444444444,
              "#bd3786"
             ],
             [
              0.5555555555555556,
              "#d8576b"
             ],
             [
              0.6666666666666666,
              "#ed7953"
             ],
             [
              0.7777777777777778,
              "#fb9f3a"
             ],
             [
              0.8888888888888888,
              "#fdca26"
             ],
             [
              1,
              "#f0f921"
             ]
            ],
            "type": "heatmap"
           }
          ],
          "heatmapgl": [
           {
            "colorbar": {
             "outlinewidth": 0,
             "ticks": ""
            },
            "colorscale": [
             [
              0,
              "#0d0887"
             ],
             [
              0.1111111111111111,
              "#46039f"
             ],
             [
              0.2222222222222222,
              "#7201a8"
             ],
             [
              0.3333333333333333,
              "#9c179e"
             ],
             [
              0.4444444444444444,
              "#bd3786"
             ],
             [
              0.5555555555555556,
              "#d8576b"
             ],
             [
              0.6666666666666666,
              "#ed7953"
             ],
             [
              0.7777777777777778,
              "#fb9f3a"
             ],
             [
              0.8888888888888888,
              "#fdca26"
             ],
             [
              1,
              "#f0f921"
             ]
            ],
            "type": "heatmapgl"
           }
          ],
          "histogram": [
           {
            "marker": {
             "pattern": {
              "fillmode": "overlay",
              "size": 10,
              "solidity": 0.2
             }
            },
            "type": "histogram"
           }
          ],
          "histogram2d": [
           {
            "colorbar": {
             "outlinewidth": 0,
             "ticks": ""
            },
            "colorscale": [
             [
              0,
              "#0d0887"
             ],
             [
              0.1111111111111111,
              "#46039f"
             ],
             [
              0.2222222222222222,
              "#7201a8"
             ],
             [
              0.3333333333333333,
              "#9c179e"
             ],
             [
              0.4444444444444444,
              "#bd3786"
             ],
             [
              0.5555555555555556,
              "#d8576b"
             ],
             [
              0.6666666666666666,
              "#ed7953"
             ],
             [
              0.7777777777777778,
              "#fb9f3a"
             ],
             [
              0.8888888888888888,
              "#fdca26"
             ],
             [
              1,
              "#f0f921"
             ]
            ],
            "type": "histogram2d"
           }
          ],
          "histogram2dcontour": [
           {
            "colorbar": {
             "outlinewidth": 0,
             "ticks": ""
            },
            "colorscale": [
             [
              0,
              "#0d0887"
             ],
             [
              0.1111111111111111,
              "#46039f"
             ],
             [
              0.2222222222222222,
              "#7201a8"
             ],
             [
              0.3333333333333333,
              "#9c179e"
             ],
             [
              0.4444444444444444,
              "#bd3786"
             ],
             [
              0.5555555555555556,
              "#d8576b"
             ],
             [
              0.6666666666666666,
              "#ed7953"
             ],
             [
              0.7777777777777778,
              "#fb9f3a"
             ],
             [
              0.8888888888888888,
              "#fdca26"
             ],
             [
              1,
              "#f0f921"
             ]
            ],
            "type": "histogram2dcontour"
           }
          ],
          "mesh3d": [
           {
            "colorbar": {
             "outlinewidth": 0,
             "ticks": ""
            },
            "type": "mesh3d"
           }
          ],
          "parcoords": [
           {
            "line": {
             "colorbar": {
              "outlinewidth": 0,
              "ticks": ""
             }
            },
            "type": "parcoords"
           }
          ],
          "pie": [
           {
            "automargin": true,
            "type": "pie"
           }
          ],
          "scatter": [
           {
            "fillpattern": {
             "fillmode": "overlay",
             "size": 10,
             "solidity": 0.2
            },
            "type": "scatter"
           }
          ],
          "scatter3d": [
           {
            "line": {
             "colorbar": {
              "outlinewidth": 0,
              "ticks": ""
             }
            },
            "marker": {
             "colorbar": {
              "outlinewidth": 0,
              "ticks": ""
             }
            },
            "type": "scatter3d"
           }
          ],
          "scattercarpet": [
           {
            "marker": {
             "colorbar": {
              "outlinewidth": 0,
              "ticks": ""
             }
            },
            "type": "scattercarpet"
           }
          ],
          "scattergeo": [
           {
            "marker": {
             "colorbar": {
              "outlinewidth": 0,
              "ticks": ""
             }
            },
            "type": "scattergeo"
           }
          ],
          "scattergl": [
           {
            "marker": {
             "colorbar": {
              "outlinewidth": 0,
              "ticks": ""
             }
            },
            "type": "scattergl"
           }
          ],
          "scattermapbox": [
           {
            "marker": {
             "colorbar": {
              "outlinewidth": 0,
              "ticks": ""
             }
            },
            "type": "scattermapbox"
           }
          ],
          "scatterpolar": [
           {
            "marker": {
             "colorbar": {
              "outlinewidth": 0,
              "ticks": ""
             }
            },
            "type": "scatterpolar"
           }
          ],
          "scatterpolargl": [
           {
            "marker": {
             "colorbar": {
              "outlinewidth": 0,
              "ticks": ""
             }
            },
            "type": "scatterpolargl"
           }
          ],
          "scatterternary": [
           {
            "marker": {
             "colorbar": {
              "outlinewidth": 0,
              "ticks": ""
             }
            },
            "type": "scatterternary"
           }
          ],
          "surface": [
           {
            "colorbar": {
             "outlinewidth": 0,
             "ticks": ""
            },
            "colorscale": [
             [
              0,
              "#0d0887"
             ],
             [
              0.1111111111111111,
              "#46039f"
             ],
             [
              0.2222222222222222,
              "#7201a8"
             ],
             [
              0.3333333333333333,
              "#9c179e"
             ],
             [
              0.4444444444444444,
              "#bd3786"
             ],
             [
              0.5555555555555556,
              "#d8576b"
             ],
             [
              0.6666666666666666,
              "#ed7953"
             ],
             [
              0.7777777777777778,
              "#fb9f3a"
             ],
             [
              0.8888888888888888,
              "#fdca26"
             ],
             [
              1,
              "#f0f921"
             ]
            ],
            "type": "surface"
           }
          ],
          "table": [
           {
            "cells": {
             "fill": {
              "color": "#EBF0F8"
             },
             "line": {
              "color": "white"
             }
            },
            "header": {
             "fill": {
              "color": "#C8D4E3"
             },
             "line": {
              "color": "white"
             }
            },
            "type": "table"
           }
          ]
         },
         "layout": {
          "annotationdefaults": {
           "arrowcolor": "#2a3f5f",
           "arrowhead": 0,
           "arrowwidth": 1
          },
          "autotypenumbers": "strict",
          "coloraxis": {
           "colorbar": {
            "outlinewidth": 0,
            "ticks": ""
           }
          },
          "colorscale": {
           "diverging": [
            [
             0,
             "#8e0152"
            ],
            [
             0.1,
             "#c51b7d"
            ],
            [
             0.2,
             "#de77ae"
            ],
            [
             0.3,
             "#f1b6da"
            ],
            [
             0.4,
             "#fde0ef"
            ],
            [
             0.5,
             "#f7f7f7"
            ],
            [
             0.6,
             "#e6f5d0"
            ],
            [
             0.7,
             "#b8e186"
            ],
            [
             0.8,
             "#7fbc41"
            ],
            [
             0.9,
             "#4d9221"
            ],
            [
             1,
             "#276419"
            ]
           ],
           "sequential": [
            [
             0,
             "#0d0887"
            ],
            [
             0.1111111111111111,
             "#46039f"
            ],
            [
             0.2222222222222222,
             "#7201a8"
            ],
            [
             0.3333333333333333,
             "#9c179e"
            ],
            [
             0.4444444444444444,
             "#bd3786"
            ],
            [
             0.5555555555555556,
             "#d8576b"
            ],
            [
             0.6666666666666666,
             "#ed7953"
            ],
            [
             0.7777777777777778,
             "#fb9f3a"
            ],
            [
             0.8888888888888888,
             "#fdca26"
            ],
            [
             1,
             "#f0f921"
            ]
           ],
           "sequentialminus": [
            [
             0,
             "#0d0887"
            ],
            [
             0.1111111111111111,
             "#46039f"
            ],
            [
             0.2222222222222222,
             "#7201a8"
            ],
            [
             0.3333333333333333,
             "#9c179e"
            ],
            [
             0.4444444444444444,
             "#bd3786"
            ],
            [
             0.5555555555555556,
             "#d8576b"
            ],
            [
             0.6666666666666666,
             "#ed7953"
            ],
            [
             0.7777777777777778,
             "#fb9f3a"
            ],
            [
             0.8888888888888888,
             "#fdca26"
            ],
            [
             1,
             "#f0f921"
            ]
           ]
          },
          "colorway": [
           "#636efa",
           "#EF553B",
           "#00cc96",
           "#ab63fa",
           "#FFA15A",
           "#19d3f3",
           "#FF6692",
           "#B6E880",
           "#FF97FF",
           "#FECB52"
          ],
          "font": {
           "color": "#2a3f5f"
          },
          "geo": {
           "bgcolor": "white",
           "lakecolor": "white",
           "landcolor": "#E5ECF6",
           "showlakes": true,
           "showland": true,
           "subunitcolor": "white"
          },
          "hoverlabel": {
           "align": "left"
          },
          "hovermode": "closest",
          "mapbox": {
           "style": "light"
          },
          "paper_bgcolor": "white",
          "plot_bgcolor": "#E5ECF6",
          "polar": {
           "angularaxis": {
            "gridcolor": "white",
            "linecolor": "white",
            "ticks": ""
           },
           "bgcolor": "#E5ECF6",
           "radialaxis": {
            "gridcolor": "white",
            "linecolor": "white",
            "ticks": ""
           }
          },
          "scene": {
           "xaxis": {
            "backgroundcolor": "#E5ECF6",
            "gridcolor": "white",
            "gridwidth": 2,
            "linecolor": "white",
            "showbackground": true,
            "ticks": "",
            "zerolinecolor": "white"
           },
           "yaxis": {
            "backgroundcolor": "#E5ECF6",
            "gridcolor": "white",
            "gridwidth": 2,
            "linecolor": "white",
            "showbackground": true,
            "ticks": "",
            "zerolinecolor": "white"
           },
           "zaxis": {
            "backgroundcolor": "#E5ECF6",
            "gridcolor": "white",
            "gridwidth": 2,
            "linecolor": "white",
            "showbackground": true,
            "ticks": "",
            "zerolinecolor": "white"
           }
          },
          "shapedefaults": {
           "line": {
            "color": "#2a3f5f"
           }
          },
          "ternary": {
           "aaxis": {
            "gridcolor": "white",
            "linecolor": "white",
            "ticks": ""
           },
           "baxis": {
            "gridcolor": "white",
            "linecolor": "white",
            "ticks": ""
           },
           "bgcolor": "#E5ECF6",
           "caxis": {
            "gridcolor": "white",
            "linecolor": "white",
            "ticks": ""
           }
          },
          "title": {
           "x": 0.05
          },
          "xaxis": {
           "automargin": true,
           "gridcolor": "white",
           "linecolor": "white",
           "ticks": "",
           "title": {
            "standoff": 15
           },
           "zerolinecolor": "white",
           "zerolinewidth": 2
          },
          "yaxis": {
           "automargin": true,
           "gridcolor": "white",
           "linecolor": "white",
           "ticks": "",
           "title": {
            "standoff": 15
           },
           "zerolinecolor": "white",
           "zerolinewidth": 2
          }
         }
        },
        "title": {
         "text": "Clustered Bar Chart by State and Category"
        },
        "xaxis": {
         "anchor": "y",
         "domain": [
          0,
          1
         ],
         "title": {
          "text": "State"
         }
        },
        "yaxis": {
         "anchor": "x",
         "domain": [
          0,
          1
         ],
         "title": {
          "text": "Corporate Income Tax Rate"
         }
        }
       }
      }
     },
     "metadata": {},
     "output_type": "display_data"
    }
   ],
   "source": [
    "\n",
    "\n",
    "allCITR = pd.DataFrame(pd.concat([min_CITR,max_CITR], keys = [\"Man\", \"Max\"], axis = 0)).reset_index().rename(columns = {\"Rates\":\"Corporate Income Tax Rate\",\n",
    "                                                                                             \"level_0\":\"Measure\"})\n",
    "# allCITR=allCITR.sort_values(by=[\"Rates\"], ascending = False)\n",
    "allCITR.fillna(0, inplace = True)\n",
    "allCITR = allCITR.reset_index().sort_values(by=[\"Corporate Income Tax Rate\", \"Measure\"], ascending = False)\n",
    "allCITR[\"Measure\"][allCITR[\"Measure\"] == \"Man\"] = \"Min\"\n",
    "fig = px.bar(\n",
    "    allCITR,\n",
    "    x='State',\n",
    "    y=\"Corporate Income Tax Rate\",\n",
    "    color='Measure',\n",
    "    barmode=\"group\",\n",
    "    color_discrete_map={\"Min\":\"blue\", \"Max\":\"red\"},\n",
    "    title='Clustered Bar Chart by State and Category')\n",
    "fig.show()\n",
    "fig.write_html(\"outputs/State government finances/2024MinMaxCITR.html\")\n"
   ]
  },
  {
   "cell_type": "code",
   "execution_count": null,
   "metadata": {},
   "outputs": [],
   "source": []
  }
 ],
 "metadata": {
  "kernelspec": {
   "display_name": "base",
   "language": "python",
   "name": "python3"
  },
  "language_info": {
   "codemirror_mode": {
    "name": "ipython",
    "version": 3
   },
   "file_extension": ".py",
   "mimetype": "text/x-python",
   "name": "python",
   "nbconvert_exporter": "python",
   "pygments_lexer": "ipython3",
   "version": "3.11.7"
  }
 },
 "nbformat": 4,
 "nbformat_minor": 2
}
